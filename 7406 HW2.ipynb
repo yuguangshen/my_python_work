{
 "cells": [
  {
   "cell_type": "code",
   "execution_count": 1,
   "id": "4e090c45",
   "metadata": {},
   "outputs": [],
   "source": [
    "import numpy as np\n",
    "import pandas as pd\n",
    "from itertools import combinations\n",
    "import os\n",
    "import matplotlib.pyplot as plt\n",
    "import seaborn as sns\n",
    "from sklearn.linear_model import LinearRegression\n",
    "from sklearn.linear_model import RidgeCV\n",
    "from sklearn.linear_model import LassoCV\n",
    "from sklearn.decomposition import PCA\n",
    "from sklearn.cross_decomposition import PLSRegression\n",
    "from sklearn.preprocessing import StandardScaler\n",
    "from tqdm.notebook import trange, tqdm"
   ]
  },
  {
   "cell_type": "markdown",
   "id": "7b22f47b",
   "metadata": {},
   "source": [
    "# (a) Split the original data"
   ]
  },
  {
   "cell_type": "code",
   "execution_count": 2,
   "id": "e86e3928",
   "metadata": {},
   "outputs": [],
   "source": [
    "# Get proper file path separator for current OS\n",
    "s = os.path.sep"
   ]
  },
  {
   "cell_type": "markdown",
   "id": "204b411c",
   "metadata": {},
   "source": [
    "###### The code block below is only used when importing selected subset of variables "
   ]
  },
  {
   "cell_type": "code",
   "execution_count": null,
   "id": "38781f99",
   "metadata": {},
   "outputs": [],
   "source": [
    "# # Get all column names\n",
    "# all_cols = pd.read_csv(\"D:\" + s + \"2022 Spring\" + s + \"ISYE7406\" + s + \"HW\" + s + \"HW2\" + s + \"fat.csv\").columns.tolist()\n",
    "\n",
    "# # Change cols as needed\n",
    "# all_cols.remove('siri')\n",
    "# all_cols.remove('free')\n",
    "# all_cols.remove('density')\n",
    "\n",
    "# # Import data with only selected columns\n",
    "# fat = pd.read_csv(\"D:\" + s + \"2022 Spring\" + s + \"ISYE7406\" + s + \"HW\" + s + \"HW2\" + s + \"fat.csv\", usecols = all_cols)"
   ]
  },
  {
   "cell_type": "markdown",
   "id": "ef7cebd9",
   "metadata": {},
   "source": [
    "###### The code block above is only used when importing selected subset of variables "
   ]
  },
  {
   "cell_type": "code",
   "execution_count": 3,
   "id": "280128b8",
   "metadata": {},
   "outputs": [],
   "source": [
    "# Import original data\n",
    "fat = pd.read_csv(\"D:\" + s + \"2022 Spring\" + s + \"ISYE7406\" + s + \"HW\" + s + \"HW2\" + s + \"fat.csv\")"
   ]
  },
  {
   "cell_type": "code",
   "execution_count": 4,
   "id": "ab9598df",
   "metadata": {},
   "outputs": [],
   "source": [
    "# Index for 25 rows of testing observations in R\n",
    "test_index_R = [1,21,22,57,70,88,91,94,121,127,149,151,159,162,164,177,179,194,206,214,215,221,240,241,243 ]"
   ]
  },
  {
   "cell_type": "code",
   "execution_count": 5,
   "id": "017f66fa",
   "metadata": {},
   "outputs": [],
   "source": [
    "# Convert index in R to Python. Python index starts from 0\n",
    "test_index_Python = [x - 1 for x in test_index_R]"
   ]
  },
  {
   "cell_type": "code",
   "execution_count": 6,
   "id": "e308b223",
   "metadata": {},
   "outputs": [],
   "source": [
    "# Get the testing data\n",
    "#fat1test = fat.iloc[test_index_Python, :]\n",
    "\n",
    "test = fat.iloc[test_index_Python, :]"
   ]
  },
  {
   "cell_type": "code",
   "execution_count": 7,
   "id": "bef29216",
   "metadata": {},
   "outputs": [],
   "source": [
    "# Get the training data\n",
    "#fat1train = fat.drop(index = test_index_Python)\n",
    "\n",
    "train = fat.drop(index = test_index_Python)"
   ]
  },
  {
   "cell_type": "markdown",
   "id": "40a76628",
   "metadata": {},
   "source": [
    "# (b) Exploratory data analysis "
   ]
  },
  {
   "cell_type": "markdown",
   "id": "92242c72",
   "metadata": {},
   "source": [
    "## Check for missing values in the original data"
   ]
  },
  {
   "cell_type": "code",
   "execution_count": 8,
   "id": "dc4d41ff",
   "metadata": {},
   "outputs": [
    {
     "name": "stdout",
     "output_type": "stream",
     "text": [
      "<class 'pandas.core.frame.DataFrame'>\n",
      "RangeIndex: 252 entries, 0 to 251\n",
      "Data columns (total 18 columns):\n",
      " #   Column   Non-Null Count  Dtype  \n",
      "---  ------   --------------  -----  \n",
      " 0   brozek   252 non-null    float64\n",
      " 1   siri     252 non-null    float64\n",
      " 2   density  252 non-null    float64\n",
      " 3   age      252 non-null    int64  \n",
      " 4   weight   252 non-null    float64\n",
      " 5   height   252 non-null    float64\n",
      " 6   adipos   252 non-null    float64\n",
      " 7   free     252 non-null    float64\n",
      " 8   neck     252 non-null    float64\n",
      " 9   chest    252 non-null    float64\n",
      " 10  abdom    252 non-null    float64\n",
      " 11  hip      252 non-null    float64\n",
      " 12  thigh    252 non-null    float64\n",
      " 13  knee     252 non-null    float64\n",
      " 14  ankle    252 non-null    float64\n",
      " 15  biceps   252 non-null    float64\n",
      " 16  forearm  252 non-null    float64\n",
      " 17  wrist    252 non-null    float64\n",
      "dtypes: float64(17), int64(1)\n",
      "memory usage: 35.6 KB\n"
     ]
    }
   ],
   "source": [
    "fat.info()"
   ]
  },
  {
   "cell_type": "markdown",
   "id": "ffcd060d",
   "metadata": {},
   "source": [
    "## Descriptive statistics for each column"
   ]
  },
  {
   "cell_type": "code",
   "execution_count": 9,
   "id": "921e8c6b",
   "metadata": {},
   "outputs": [
    {
     "data": {
      "text/html": [
       "<style type=\"text/css\">\n",
       "</style>\n",
       "<table id=\"T_0ece1_\">\n",
       "  <thead>\n",
       "    <tr>\n",
       "      <th class=\"blank level0\" >&nbsp;</th>\n",
       "      <th class=\"col_heading level0 col0\" >brozek</th>\n",
       "      <th class=\"col_heading level0 col1\" >siri</th>\n",
       "      <th class=\"col_heading level0 col2\" >density</th>\n",
       "      <th class=\"col_heading level0 col3\" >age</th>\n",
       "      <th class=\"col_heading level0 col4\" >weight</th>\n",
       "      <th class=\"col_heading level0 col5\" >height</th>\n",
       "      <th class=\"col_heading level0 col6\" >adipos</th>\n",
       "      <th class=\"col_heading level0 col7\" >free</th>\n",
       "      <th class=\"col_heading level0 col8\" >neck</th>\n",
       "      <th class=\"col_heading level0 col9\" >chest</th>\n",
       "      <th class=\"col_heading level0 col10\" >abdom</th>\n",
       "      <th class=\"col_heading level0 col11\" >hip</th>\n",
       "      <th class=\"col_heading level0 col12\" >thigh</th>\n",
       "      <th class=\"col_heading level0 col13\" >knee</th>\n",
       "      <th class=\"col_heading level0 col14\" >ankle</th>\n",
       "      <th class=\"col_heading level0 col15\" >biceps</th>\n",
       "      <th class=\"col_heading level0 col16\" >forearm</th>\n",
       "      <th class=\"col_heading level0 col17\" >wrist</th>\n",
       "    </tr>\n",
       "  </thead>\n",
       "  <tbody>\n",
       "    <tr>\n",
       "      <th id=\"T_0ece1_level0_row0\" class=\"row_heading level0 row0\" >count</th>\n",
       "      <td id=\"T_0ece1_row0_col0\" class=\"data row0 col0\" >227.00</td>\n",
       "      <td id=\"T_0ece1_row0_col1\" class=\"data row0 col1\" >227.00</td>\n",
       "      <td id=\"T_0ece1_row0_col2\" class=\"data row0 col2\" >227.00</td>\n",
       "      <td id=\"T_0ece1_row0_col3\" class=\"data row0 col3\" >227.00</td>\n",
       "      <td id=\"T_0ece1_row0_col4\" class=\"data row0 col4\" >227.00</td>\n",
       "      <td id=\"T_0ece1_row0_col5\" class=\"data row0 col5\" >227.00</td>\n",
       "      <td id=\"T_0ece1_row0_col6\" class=\"data row0 col6\" >227.00</td>\n",
       "      <td id=\"T_0ece1_row0_col7\" class=\"data row0 col7\" >227.00</td>\n",
       "      <td id=\"T_0ece1_row0_col8\" class=\"data row0 col8\" >227.00</td>\n",
       "      <td id=\"T_0ece1_row0_col9\" class=\"data row0 col9\" >227.00</td>\n",
       "      <td id=\"T_0ece1_row0_col10\" class=\"data row0 col10\" >227.00</td>\n",
       "      <td id=\"T_0ece1_row0_col11\" class=\"data row0 col11\" >227.00</td>\n",
       "      <td id=\"T_0ece1_row0_col12\" class=\"data row0 col12\" >227.00</td>\n",
       "      <td id=\"T_0ece1_row0_col13\" class=\"data row0 col13\" >227.00</td>\n",
       "      <td id=\"T_0ece1_row0_col14\" class=\"data row0 col14\" >227.00</td>\n",
       "      <td id=\"T_0ece1_row0_col15\" class=\"data row0 col15\" >227.00</td>\n",
       "      <td id=\"T_0ece1_row0_col16\" class=\"data row0 col16\" >227.00</td>\n",
       "      <td id=\"T_0ece1_row0_col17\" class=\"data row0 col17\" >227.00</td>\n",
       "    </tr>\n",
       "    <tr>\n",
       "      <th id=\"T_0ece1_level0_row1\" class=\"row_heading level0 row1\" >mean</th>\n",
       "      <td id=\"T_0ece1_row1_col0\" class=\"data row1 col0\" >18.99</td>\n",
       "      <td id=\"T_0ece1_row1_col1\" class=\"data row1 col1\" >19.21</td>\n",
       "      <td id=\"T_0ece1_row1_col2\" class=\"data row1 col2\" >1.06</td>\n",
       "      <td id=\"T_0ece1_row1_col3\" class=\"data row1 col3\" >44.98</td>\n",
       "      <td id=\"T_0ece1_row1_col4\" class=\"data row1 col4\" >179.26</td>\n",
       "      <td id=\"T_0ece1_row1_col5\" class=\"data row1 col5\" >70.16</td>\n",
       "      <td id=\"T_0ece1_row1_col6\" class=\"data row1 col6\" >25.45</td>\n",
       "      <td id=\"T_0ece1_row1_col7\" class=\"data row1 col7\" >143.78</td>\n",
       "      <td id=\"T_0ece1_row1_col8\" class=\"data row1 col8\" >37.99</td>\n",
       "      <td id=\"T_0ece1_row1_col9\" class=\"data row1 col9\" >100.87</td>\n",
       "      <td id=\"T_0ece1_row1_col10\" class=\"data row1 col10\" >92.65</td>\n",
       "      <td id=\"T_0ece1_row1_col11\" class=\"data row1 col11\" >100.00</td>\n",
       "      <td id=\"T_0ece1_row1_col12\" class=\"data row1 col12\" >59.48</td>\n",
       "      <td id=\"T_0ece1_row1_col13\" class=\"data row1 col13\" >38.60</td>\n",
       "      <td id=\"T_0ece1_row1_col14\" class=\"data row1 col14\" >23.11</td>\n",
       "      <td id=\"T_0ece1_row1_col15\" class=\"data row1 col15\" >32.34</td>\n",
       "      <td id=\"T_0ece1_row1_col16\" class=\"data row1 col16\" >28.65</td>\n",
       "      <td id=\"T_0ece1_row1_col17\" class=\"data row1 col17\" >18.24</td>\n",
       "    </tr>\n",
       "    <tr>\n",
       "      <th id=\"T_0ece1_level0_row2\" class=\"row_heading level0 row2\" >std</th>\n",
       "      <td id=\"T_0ece1_row2_col0\" class=\"data row2 col0\" >7.92</td>\n",
       "      <td id=\"T_0ece1_row2_col1\" class=\"data row2 col1\" >8.55</td>\n",
       "      <td id=\"T_0ece1_row2_col2\" class=\"data row2 col2\" >0.02</td>\n",
       "      <td id=\"T_0ece1_row2_col3\" class=\"data row2 col3\" >12.51</td>\n",
       "      <td id=\"T_0ece1_row2_col4\" class=\"data row2 col4\" >29.58</td>\n",
       "      <td id=\"T_0ece1_row2_col5\" class=\"data row2 col5\" >3.76</td>\n",
       "      <td id=\"T_0ece1_row2_col6\" class=\"data row2 col6\" >3.69</td>\n",
       "      <td id=\"T_0ece1_row2_col7\" class=\"data row2 col7\" >18.34</td>\n",
       "      <td id=\"T_0ece1_row2_col8\" class=\"data row2 col8\" >2.47</td>\n",
       "      <td id=\"T_0ece1_row2_col9\" class=\"data row2 col9\" >8.55</td>\n",
       "      <td id=\"T_0ece1_row2_col10\" class=\"data row2 col10\" >10.98</td>\n",
       "      <td id=\"T_0ece1_row2_col11\" class=\"data row2 col11\" >7.26</td>\n",
       "      <td id=\"T_0ece1_row2_col12\" class=\"data row2 col12\" >5.33</td>\n",
       "      <td id=\"T_0ece1_row2_col13\" class=\"data row2 col13\" >2.42</td>\n",
       "      <td id=\"T_0ece1_row2_col14\" class=\"data row2 col14\" >1.70</td>\n",
       "      <td id=\"T_0ece1_row2_col15\" class=\"data row2 col15\" >3.02</td>\n",
       "      <td id=\"T_0ece1_row2_col16\" class=\"data row2 col16\" >1.95</td>\n",
       "      <td id=\"T_0ece1_row2_col17\" class=\"data row2 col17\" >0.92</td>\n",
       "    </tr>\n",
       "    <tr>\n",
       "      <th id=\"T_0ece1_level0_row3\" class=\"row_heading level0 row3\" >min</th>\n",
       "      <td id=\"T_0ece1_row3_col0\" class=\"data row3 col0\" >0.00</td>\n",
       "      <td id=\"T_0ece1_row3_col1\" class=\"data row3 col1\" >0.00</td>\n",
       "      <td id=\"T_0ece1_row3_col2\" class=\"data row3 col2\" >0.99</td>\n",
       "      <td id=\"T_0ece1_row3_col3\" class=\"data row3 col3\" >22.00</td>\n",
       "      <td id=\"T_0ece1_row3_col4\" class=\"data row3 col4\" >118.50</td>\n",
       "      <td id=\"T_0ece1_row3_col5\" class=\"data row3 col5\" >29.50</td>\n",
       "      <td id=\"T_0ece1_row3_col6\" class=\"data row3 col6\" >18.10</td>\n",
       "      <td id=\"T_0ece1_row3_col7\" class=\"data row3 col7\" >107.90</td>\n",
       "      <td id=\"T_0ece1_row3_col8\" class=\"data row3 col8\" >31.10</td>\n",
       "      <td id=\"T_0ece1_row3_col9\" class=\"data row3 col9\" >79.30</td>\n",
       "      <td id=\"T_0ece1_row3_col10\" class=\"data row3 col10\" >69.40</td>\n",
       "      <td id=\"T_0ece1_row3_col11\" class=\"data row3 col11\" >85.00</td>\n",
       "      <td id=\"T_0ece1_row3_col12\" class=\"data row3 col12\" >47.20</td>\n",
       "      <td id=\"T_0ece1_row3_col13\" class=\"data row3 col13\" >33.00</td>\n",
       "      <td id=\"T_0ece1_row3_col14\" class=\"data row3 col14\" >19.10</td>\n",
       "      <td id=\"T_0ece1_row3_col15\" class=\"data row3 col15\" >24.80</td>\n",
       "      <td id=\"T_0ece1_row3_col16\" class=\"data row3 col16\" >21.00</td>\n",
       "      <td id=\"T_0ece1_row3_col17\" class=\"data row3 col17\" >15.80</td>\n",
       "    </tr>\n",
       "    <tr>\n",
       "      <th id=\"T_0ece1_level0_row4\" class=\"row_heading level0 row4\" >25%</th>\n",
       "      <td id=\"T_0ece1_row4_col0\" class=\"data row4 col0\" >12.75</td>\n",
       "      <td id=\"T_0ece1_row4_col1\" class=\"data row4 col1\" >12.30</td>\n",
       "      <td id=\"T_0ece1_row4_col2\" class=\"data row4 col2\" >1.04</td>\n",
       "      <td id=\"T_0ece1_row4_col3\" class=\"data row4 col3\" >36.50</td>\n",
       "      <td id=\"T_0ece1_row4_col4\" class=\"data row4 col4\" >159.75</td>\n",
       "      <td id=\"T_0ece1_row4_col5\" class=\"data row4 col5\" >68.25</td>\n",
       "      <td id=\"T_0ece1_row4_col6\" class=\"data row4 col6\" >23.10</td>\n",
       "      <td id=\"T_0ece1_row4_col7\" class=\"data row4 col7\" >131.30</td>\n",
       "      <td id=\"T_0ece1_row4_col8\" class=\"data row4 col8\" >36.40</td>\n",
       "      <td id=\"T_0ece1_row4_col9\" class=\"data row4 col9\" >94.75</td>\n",
       "      <td id=\"T_0ece1_row4_col10\" class=\"data row4 col10\" >84.90</td>\n",
       "      <td id=\"T_0ece1_row4_col11\" class=\"data row4 col11\" >95.60</td>\n",
       "      <td id=\"T_0ece1_row4_col12\" class=\"data row4 col12\" >56.00</td>\n",
       "      <td id=\"T_0ece1_row4_col13\" class=\"data row4 col13\" >36.95</td>\n",
       "      <td id=\"T_0ece1_row4_col14\" class=\"data row4 col14\" >22.05</td>\n",
       "      <td id=\"T_0ece1_row4_col15\" class=\"data row4 col15\" >30.30</td>\n",
       "      <td id=\"T_0ece1_row4_col16\" class=\"data row4 col16\" >27.30</td>\n",
       "      <td id=\"T_0ece1_row4_col17\" class=\"data row4 col17\" >17.60</td>\n",
       "    </tr>\n",
       "    <tr>\n",
       "      <th id=\"T_0ece1_level0_row5\" class=\"row_heading level0 row5\" >50%</th>\n",
       "      <td id=\"T_0ece1_row5_col0\" class=\"data row5 col0\" >19.10</td>\n",
       "      <td id=\"T_0ece1_row5_col1\" class=\"data row5 col1\" >19.30</td>\n",
       "      <td id=\"T_0ece1_row5_col2\" class=\"data row5 col2\" >1.05</td>\n",
       "      <td id=\"T_0ece1_row5_col3\" class=\"data row5 col3\" >43.00</td>\n",
       "      <td id=\"T_0ece1_row5_col4\" class=\"data row5 col4\" >176.00</td>\n",
       "      <td id=\"T_0ece1_row5_col5\" class=\"data row5 col5\" >70.00</td>\n",
       "      <td id=\"T_0ece1_row5_col6\" class=\"data row5 col6\" >24.90</td>\n",
       "      <td id=\"T_0ece1_row5_col7\" class=\"data row5 col7\" >141.70</td>\n",
       "      <td id=\"T_0ece1_row5_col8\" class=\"data row5 col8\" >37.90</td>\n",
       "      <td id=\"T_0ece1_row5_col9\" class=\"data row5 col9\" >99.60</td>\n",
       "      <td id=\"T_0ece1_row5_col10\" class=\"data row5 col10\" >90.80</td>\n",
       "      <td id=\"T_0ece1_row5_col11\" class=\"data row5 col11\" >99.30</td>\n",
       "      <td id=\"T_0ece1_row5_col12\" class=\"data row5 col12\" >59.00</td>\n",
       "      <td id=\"T_0ece1_row5_col13\" class=\"data row5 col13\" >38.50</td>\n",
       "      <td id=\"T_0ece1_row5_col14\" class=\"data row5 col14\" >22.80</td>\n",
       "      <td id=\"T_0ece1_row5_col15\" class=\"data row5 col15\" >32.10</td>\n",
       "      <td id=\"T_0ece1_row5_col16\" class=\"data row5 col16\" >28.70</td>\n",
       "      <td id=\"T_0ece1_row5_col17\" class=\"data row5 col17\" >18.30</td>\n",
       "    </tr>\n",
       "    <tr>\n",
       "      <th id=\"T_0ece1_level0_row6\" class=\"row_heading level0 row6\" >75%</th>\n",
       "      <td id=\"T_0ece1_row6_col0\" class=\"data row6 col0\" >24.65</td>\n",
       "      <td id=\"T_0ece1_row6_col1\" class=\"data row6 col1\" >25.35</td>\n",
       "      <td id=\"T_0ece1_row6_col2\" class=\"data row6 col2\" >1.07</td>\n",
       "      <td id=\"T_0ece1_row6_col3\" class=\"data row6 col3\" >54.00</td>\n",
       "      <td id=\"T_0ece1_row6_col4\" class=\"data row6 col4\" >197.50</td>\n",
       "      <td id=\"T_0ece1_row6_col5\" class=\"data row6 col5\" >72.25</td>\n",
       "      <td id=\"T_0ece1_row6_col6\" class=\"data row6 col6\" >27.20</td>\n",
       "      <td id=\"T_0ece1_row6_col7\" class=\"data row6 col7\" >153.95</td>\n",
       "      <td id=\"T_0ece1_row6_col8\" class=\"data row6 col8\" >39.50</td>\n",
       "      <td id=\"T_0ece1_row6_col9\" class=\"data row6 col9\" >105.45</td>\n",
       "      <td id=\"T_0ece1_row6_col10\" class=\"data row6 col10\" >99.80</td>\n",
       "      <td id=\"T_0ece1_row6_col11\" class=\"data row6 col11\" >103.35</td>\n",
       "      <td id=\"T_0ece1_row6_col12\" class=\"data row6 col12\" >62.40</td>\n",
       "      <td id=\"T_0ece1_row6_col13\" class=\"data row6 col13\" >39.95</td>\n",
       "      <td id=\"T_0ece1_row6_col14\" class=\"data row6 col14\" >23.85</td>\n",
       "      <td id=\"T_0ece1_row6_col15\" class=\"data row6 col15\" >34.40</td>\n",
       "      <td id=\"T_0ece1_row6_col16\" class=\"data row6 col16\" >30.00</td>\n",
       "      <td id=\"T_0ece1_row6_col17\" class=\"data row6 col17\" >18.80</td>\n",
       "    </tr>\n",
       "    <tr>\n",
       "      <th id=\"T_0ece1_level0_row7\" class=\"row_heading level0 row7\" >max</th>\n",
       "      <td id=\"T_0ece1_row7_col0\" class=\"data row7 col0\" >45.10</td>\n",
       "      <td id=\"T_0ece1_row7_col1\" class=\"data row7 col1\" >47.50</td>\n",
       "      <td id=\"T_0ece1_row7_col2\" class=\"data row7 col2\" >1.11</td>\n",
       "      <td id=\"T_0ece1_row7_col3\" class=\"data row7 col3\" >81.00</td>\n",
       "      <td id=\"T_0ece1_row7_col4\" class=\"data row7 col4\" >363.15</td>\n",
       "      <td id=\"T_0ece1_row7_col5\" class=\"data row7 col5\" >77.75</td>\n",
       "      <td id=\"T_0ece1_row7_col6\" class=\"data row7 col6\" >48.90</td>\n",
       "      <td id=\"T_0ece1_row7_col7\" class=\"data row7 col7\" >240.50</td>\n",
       "      <td id=\"T_0ece1_row7_col8\" class=\"data row7 col8\" >51.20</td>\n",
       "      <td id=\"T_0ece1_row7_col9\" class=\"data row7 col9\" >136.20</td>\n",
       "      <td id=\"T_0ece1_row7_col10\" class=\"data row7 col10\" >148.10</td>\n",
       "      <td id=\"T_0ece1_row7_col11\" class=\"data row7 col11\" >147.70</td>\n",
       "      <td id=\"T_0ece1_row7_col12\" class=\"data row7 col12\" >87.30</td>\n",
       "      <td id=\"T_0ece1_row7_col13\" class=\"data row7 col13\" >49.10</td>\n",
       "      <td id=\"T_0ece1_row7_col14\" class=\"data row7 col14\" >33.90</td>\n",
       "      <td id=\"T_0ece1_row7_col15\" class=\"data row7 col15\" >45.00</td>\n",
       "      <td id=\"T_0ece1_row7_col16\" class=\"data row7 col16\" >33.80</td>\n",
       "      <td id=\"T_0ece1_row7_col17\" class=\"data row7 col17\" >21.40</td>\n",
       "    </tr>\n",
       "  </tbody>\n",
       "</table>\n"
      ],
      "text/plain": [
       "<pandas.io.formats.style.Styler at 0x1674365acd0>"
      ]
     },
     "execution_count": 9,
     "metadata": {},
     "output_type": "execute_result"
    }
   ],
   "source": [
    "# Descriptive statistics for training data\n",
    "train.describe().style.format(precision = 2)"
   ]
  },
  {
   "cell_type": "code",
   "execution_count": 10,
   "id": "8c5cbb0b",
   "metadata": {},
   "outputs": [
    {
     "data": {
      "text/html": [
       "<div>\n",
       "<style scoped>\n",
       "    .dataframe tbody tr th:only-of-type {\n",
       "        vertical-align: middle;\n",
       "    }\n",
       "\n",
       "    .dataframe tbody tr th {\n",
       "        vertical-align: top;\n",
       "    }\n",
       "\n",
       "    .dataframe thead th {\n",
       "        text-align: right;\n",
       "    }\n",
       "</style>\n",
       "<table border=\"1\" class=\"dataframe\">\n",
       "  <thead>\n",
       "    <tr style=\"text-align: right;\">\n",
       "      <th></th>\n",
       "      <th>brozek</th>\n",
       "      <th>siri</th>\n",
       "      <th>density</th>\n",
       "      <th>age</th>\n",
       "      <th>weight</th>\n",
       "      <th>height</th>\n",
       "      <th>adipos</th>\n",
       "      <th>free</th>\n",
       "      <th>neck</th>\n",
       "      <th>chest</th>\n",
       "      <th>abdom</th>\n",
       "      <th>hip</th>\n",
       "      <th>thigh</th>\n",
       "      <th>knee</th>\n",
       "      <th>ankle</th>\n",
       "      <th>biceps</th>\n",
       "      <th>forearm</th>\n",
       "      <th>wrist</th>\n",
       "    </tr>\n",
       "  </thead>\n",
       "  <tbody>\n",
       "    <tr>\n",
       "      <th>181</th>\n",
       "      <td>0.0</td>\n",
       "      <td>0.0</td>\n",
       "      <td>1.1089</td>\n",
       "      <td>40</td>\n",
       "      <td>118.5</td>\n",
       "      <td>68.0</td>\n",
       "      <td>18.1</td>\n",
       "      <td>118.5</td>\n",
       "      <td>33.8</td>\n",
       "      <td>79.3</td>\n",
       "      <td>69.4</td>\n",
       "      <td>85.0</td>\n",
       "      <td>47.2</td>\n",
       "      <td>33.5</td>\n",
       "      <td>20.2</td>\n",
       "      <td>27.7</td>\n",
       "      <td>24.6</td>\n",
       "      <td>16.5</td>\n",
       "    </tr>\n",
       "  </tbody>\n",
       "</table>\n",
       "</div>"
      ],
      "text/plain": [
       "     brozek  siri  density  age  weight  height  adipos   free  neck  chest  \\\n",
       "181     0.0   0.0   1.1089   40   118.5    68.0    18.1  118.5  33.8   79.3   \n",
       "\n",
       "     abdom   hip  thigh  knee  ankle  biceps  forearm  wrist  \n",
       "181   69.4  85.0   47.2  33.5   20.2    27.7     24.6   16.5  "
      ]
     },
     "execution_count": 10,
     "metadata": {},
     "output_type": "execute_result"
    }
   ],
   "source": [
    "# Who has brozek equal to zero?\n",
    "train[train['brozek']==0]"
   ]
  },
  {
   "cell_type": "markdown",
   "id": "66ccbb96",
   "metadata": {},
   "source": [
    "## Correlations"
   ]
  },
  {
   "cell_type": "code",
   "execution_count": 11,
   "id": "b6c7d077",
   "metadata": {},
   "outputs": [
    {
     "data": {
      "text/plain": [
       "Text(0.5, 1.0, 'Correlations among variables in fat data')"
      ]
     },
     "execution_count": 11,
     "metadata": {},
     "output_type": "execute_result"
    },
    {
     "data": {
      "image/png": "[encoded data removed]",
      "text/plain": [
       "<Figure size 720x720 with 2 Axes>"
      ]
     },
     "metadata": {
      "needs_background": "light"
     },
     "output_type": "display_data"
    }
   ],
   "source": [
    "plt.figure(figsize=(10,10))\n",
    "sns.heatmap(train.corr(), center = 0, cmap = 'coolwarm', annot = True, fmt = '.2f')\n",
    "plt.title('Correlations among variables in fat data')"
   ]
  },
  {
   "cell_type": "markdown",
   "id": "8ef45cef",
   "metadata": {},
   "source": [
    "## Outlier"
   ]
  },
  {
   "cell_type": "code",
   "execution_count": 12,
   "id": "bf186cae",
   "metadata": {},
   "outputs": [],
   "source": [
    "# Standardize fat1train data\n",
    "train_std_df = (train - train.mean()) / train.std()"
   ]
  },
  {
   "cell_type": "code",
   "execution_count": 13,
   "id": "4f7af06b",
   "metadata": {},
   "outputs": [
    {
     "data": {
      "text/plain": [
       "Text(0.5, 1.0, 'Standardized train Data')"
      ]
     },
     "execution_count": 13,
     "metadata": {},
     "output_type": "execute_result"
    },
    {
     "data": {
      "image/png": "[encoded data removed]",
      "text/plain": [
       "<Figure size 432x288 with 1 Axes>"
      ]
     },
     "metadata": {
      "needs_background": "light"
     },
     "output_type": "display_data"
    }
   ],
   "source": [
    "# Display the box plot for each variable\n",
    "train_std_df.boxplot()\n",
    "plt.xticks(rotation=90)\n",
    "plt.ylabel('Z-score')\n",
    "plt.title('Standardized train Data')\n"
   ]
  },
  {
   "cell_type": "code",
   "execution_count": 14,
   "id": "27242dd4",
   "metadata": {},
   "outputs": [
    {
     "data": {
      "image/png": "[encoded data removed]",
      "text/plain": [
       "<Figure size 576x576 with 20 Axes>"
      ]
     },
     "metadata": {
      "needs_background": "light"
     },
     "output_type": "display_data"
    }
   ],
   "source": [
    "# Show histogram for each column of standardized fat1train\n",
    "train_std_df.hist(bins = 50, figsize = (8, 8))\n",
    "plt.suptitle('Histogram for each variable in standardized train Data')\n",
    "plt.tight_layout()\n"
   ]
  },
  {
   "cell_type": "code",
   "execution_count": 15,
   "id": "bbe906b6",
   "metadata": {},
   "outputs": [
    {
     "data": {
      "image/png": "[encoded data removed]",
      "text/plain": [
       "<Figure size 576x576 with 20 Axes>"
      ]
     },
     "metadata": {
      "needs_background": "light"
     },
     "output_type": "display_data"
    }
   ],
   "source": [
    "# Show histogram for each column of raw fat1train data\n",
    "train.hist(bins = 50, figsize = (8, 8))\n",
    "plt.suptitle('Histogram for each variable in raw train Data')\n",
    "plt.tight_layout()\n"
   ]
  },
  {
   "cell_type": "code",
   "execution_count": 16,
   "id": "41d428ab",
   "metadata": {},
   "outputs": [],
   "source": [
    "# Write a function to display outlier data entries\n",
    "def show_outlier(df, z_score):\n",
    "    # Standardize the input dataframe\n",
    "    df_std = (df - df.mean()) / df.std()\n",
    "    # Check each row to look for outlier based on z_score criteria input by the user\n",
    "    df_std['is_outlier'] = (abs(df_std) > z_score).sum(axis = 1)\n",
    "    # Select the outliers from standardized data\n",
    "    outliers = df_std.loc[df_std['is_outlier'] != 0].drop('is_outlier', axis = 1)\n",
    "    # Make the outliers pretty\n",
    "    styler = outliers.style\n",
    "    styler.set_caption(\"Display Outliers after Standardization\")\n",
    "    styler.format(precision = 2).apply(lambda x: [\"background: yellow\" if abs(v) > z_score else \"\" for v in x], axis = 1)\n",
    "    \n",
    "    return styler\n"
   ]
  },
  {
   "cell_type": "code",
   "execution_count": 17,
   "id": "4be59e58",
   "metadata": {},
   "outputs": [
    {
     "data": {
      "text/html": [
       "<style type=\"text/css\">\n",
       "#T_6960c_row0_col14, #T_6960c_row1_col4, #T_6960c_row1_col6, #T_6960c_row1_col7, #T_6960c_row1_col8, #T_6960c_row1_col9, #T_6960c_row1_col10, #T_6960c_row1_col11, #T_6960c_row1_col12, #T_6960c_row1_col13, #T_6960c_row1_col14, #T_6960c_row1_col15, #T_6960c_row1_col17, #T_6960c_row2_col6, #T_6960c_row2_col9, #T_6960c_row2_col10, #T_6960c_row2_col11, #T_6960c_row2_col17, #T_6960c_row3_col5, #T_6960c_row4_col14, #T_6960c_row5_col16, #T_6960c_row6_col0, #T_6960c_row6_col1, #T_6960c_row6_col2, #T_6960c_row6_col6, #T_6960c_row7_col16, #T_6960c_row8_col13 {\n",
       "  background: yellow;\n",
       "}\n",
       "</style>\n",
       "<table id=\"T_6960c_\">\n",
       "  <caption>Display Outliers after Standardization</caption>\n",
       "  <thead>\n",
       "    <tr>\n",
       "      <th class=\"blank level0\" >&nbsp;</th>\n",
       "      <th class=\"col_heading level0 col0\" >brozek</th>\n",
       "      <th class=\"col_heading level0 col1\" >siri</th>\n",
       "      <th class=\"col_heading level0 col2\" >density</th>\n",
       "      <th class=\"col_heading level0 col3\" >age</th>\n",
       "      <th class=\"col_heading level0 col4\" >weight</th>\n",
       "      <th class=\"col_heading level0 col5\" >height</th>\n",
       "      <th class=\"col_heading level0 col6\" >adipos</th>\n",
       "      <th class=\"col_heading level0 col7\" >free</th>\n",
       "      <th class=\"col_heading level0 col8\" >neck</th>\n",
       "      <th class=\"col_heading level0 col9\" >chest</th>\n",
       "      <th class=\"col_heading level0 col10\" >abdom</th>\n",
       "      <th class=\"col_heading level0 col11\" >hip</th>\n",
       "      <th class=\"col_heading level0 col12\" >thigh</th>\n",
       "      <th class=\"col_heading level0 col13\" >knee</th>\n",
       "      <th class=\"col_heading level0 col14\" >ankle</th>\n",
       "      <th class=\"col_heading level0 col15\" >biceps</th>\n",
       "      <th class=\"col_heading level0 col16\" >forearm</th>\n",
       "      <th class=\"col_heading level0 col17\" >wrist</th>\n",
       "    </tr>\n",
       "  </thead>\n",
       "  <tbody>\n",
       "    <tr>\n",
       "      <th id=\"T_6960c_level0_row0\" class=\"row_heading level0 row0\" >30</th>\n",
       "      <td id=\"T_6960c_row0_col0\" class=\"data row0 col0\" >-0.84</td>\n",
       "      <td id=\"T_6960c_row0_col1\" class=\"data row0 col1\" >-0.85</td>\n",
       "      <td id=\"T_6960c_row0_col2\" class=\"data row0 col2\" >0.83</td>\n",
       "      <td id=\"T_6960c_row0_col3\" class=\"data row0 col3\" >-1.04</td>\n",
       "      <td id=\"T_6960c_row0_col4\" class=\"data row0 col4\" >0.09</td>\n",
       "      <td id=\"T_6960c_row0_col5\" class=\"data row0 col5\" >0.95</td>\n",
       "      <td id=\"T_6960c_row0_col6\" class=\"data row0 col6\" >-0.50</td>\n",
       "      <td id=\"T_6960c_row0_col7\" class=\"data row0 col7\" >0.87</td>\n",
       "      <td id=\"T_6960c_row0_col8\" class=\"data row0 col8\" >0.29</td>\n",
       "      <td id=\"T_6960c_row0_col9\" class=\"data row0 col9\" >-0.04</td>\n",
       "      <td id=\"T_6960c_row0_col10\" class=\"data row0 col10\" >-0.36</td>\n",
       "      <td id=\"T_6960c_row0_col11\" class=\"data row0 col11\" >-0.03</td>\n",
       "      <td id=\"T_6960c_row0_col12\" class=\"data row0 col12\" >-0.37</td>\n",
       "      <td id=\"T_6960c_row0_col13\" class=\"data row0 col13\" >0.04</td>\n",
       "      <td id=\"T_6960c_row0_col14\" class=\"data row0 col14\" >6.34</td>\n",
       "      <td id=\"T_6960c_row0_col15\" class=\"data row0 col15\" >0.05</td>\n",
       "      <td id=\"T_6960c_row0_col16\" class=\"data row0 col16\" >-0.49</td>\n",
       "      <td id=\"T_6960c_row0_col17\" class=\"data row0 col17\" >0.17</td>\n",
       "    </tr>\n",
       "    <tr>\n",
       "      <th id=\"T_6960c_level0_row1\" class=\"row_heading level0 row1\" >38</th>\n",
       "      <td id=\"T_6960c_row1_col0\" class=\"data row1 col0\" >1.87</td>\n",
       "      <td id=\"T_6960c_row1_col1\" class=\"data row1 col1\" >1.87</td>\n",
       "      <td id=\"T_6960c_row1_col2\" class=\"data row1 col2\" >-1.81</td>\n",
       "      <td id=\"T_6960c_row1_col3\" class=\"data row1 col3\" >0.08</td>\n",
       "      <td id=\"T_6960c_row1_col4\" class=\"data row1 col4\" >6.22</td>\n",
       "      <td id=\"T_6960c_row1_col5\" class=\"data row1 col5\" >0.56</td>\n",
       "      <td id=\"T_6960c_row1_col6\" class=\"data row1 col6\" >6.36</td>\n",
       "      <td id=\"T_6960c_row1_col7\" class=\"data row1 col7\" >5.28</td>\n",
       "      <td id=\"T_6960c_row1_col8\" class=\"data row1 col8\" >5.36</td>\n",
       "      <td id=\"T_6960c_row1_col9\" class=\"data row1 col9\" >4.13</td>\n",
       "      <td id=\"T_6960c_row1_col10\" class=\"data row1 col10\" >5.05</td>\n",
       "      <td id=\"T_6960c_row1_col11\" class=\"data row1 col11\" >6.57</td>\n",
       "      <td id=\"T_6960c_row1_col12\" class=\"data row1 col12\" >5.22</td>\n",
       "      <td id=\"T_6960c_row1_col13\" class=\"data row1 col13\" >4.33</td>\n",
       "      <td id=\"T_6960c_row1_col14\" class=\"data row1 col14\" >3.82</td>\n",
       "      <td id=\"T_6960c_row1_col15\" class=\"data row1 col15\" >4.19</td>\n",
       "      <td id=\"T_6960c_row1_col16\" class=\"data row1 col16\" >0.18</td>\n",
       "      <td id=\"T_6960c_row1_col17\" class=\"data row1 col17\" >3.43</td>\n",
       "    </tr>\n",
       "    <tr>\n",
       "      <th id=\"T_6960c_level0_row2\" class=\"row_heading level0 row2\" >40</th>\n",
       "      <td id=\"T_6960c_row2_col0\" class=\"data row2 col0\" >1.78</td>\n",
       "      <td id=\"T_6960c_row2_col1\" class=\"data row2 col1\" >1.79</td>\n",
       "      <td id=\"T_6960c_row2_col2\" class=\"data row2 col2\" >-1.73</td>\n",
       "      <td id=\"T_6960c_row2_col3\" class=\"data row2 col3\" >0.00</td>\n",
       "      <td id=\"T_6960c_row2_col4\" class=\"data row2 col4\" >2.82</td>\n",
       "      <td id=\"T_6960c_row2_col5\" class=\"data row2 col5\" >-0.37</td>\n",
       "      <td id=\"T_6960c_row2_col6\" class=\"data row2 col6\" >3.70</td>\n",
       "      <td id=\"T_6960c_row2_col7\" class=\"data row2 col7\" >1.75</td>\n",
       "      <td id=\"T_6960c_row2_col8\" class=\"data row2 col8\" >2.11</td>\n",
       "      <td id=\"T_6960c_row2_col9\" class=\"data row2 col9\" >3.21</td>\n",
       "      <td id=\"T_6960c_row2_col10\" class=\"data row2 col10\" >3.06</td>\n",
       "      <td id=\"T_6960c_row2_col11\" class=\"data row2 col11\" >3.53</td>\n",
       "      <td id=\"T_6960c_row2_col12\" class=\"data row2 col12\" >2.44</td>\n",
       "      <td id=\"T_6960c_row2_col13\" class=\"data row2 col13\" >0.41</td>\n",
       "      <td id=\"T_6960c_row2_col14\" class=\"data row2 col14\" >2.05</td>\n",
       "      <td id=\"T_6960c_row2_col15\" class=\"data row2 col15\" >1.34</td>\n",
       "      <td id=\"T_6960c_row2_col16\" class=\"data row2 col16\" >2.07</td>\n",
       "      <td id=\"T_6960c_row2_col17\" class=\"data row2 col17\" >3.43</td>\n",
       "    </tr>\n",
       "    <tr>\n",
       "      <th id=\"T_6960c_level0_row3\" class=\"row_heading level0 row3\" >41</th>\n",
       "      <td id=\"T_6960c_row3_col0\" class=\"data row3 col0\" >1.60</td>\n",
       "      <td id=\"T_6960c_row3_col1\" class=\"data row3 col1\" >1.60</td>\n",
       "      <td id=\"T_6960c_row3_col2\" class=\"data row3 col2\" >-1.57</td>\n",
       "      <td id=\"T_6960c_row3_col3\" class=\"data row3 col3\" >-0.08</td>\n",
       "      <td id=\"T_6960c_row3_col4\" class=\"data row3 col4\" >0.87</td>\n",
       "      <td id=\"T_6960c_row3_col5\" class=\"data row3 col5\" >-10.81</td>\n",
       "      <td id=\"T_6960c_row3_col6\" class=\"data row3 col6\" >1.21</td>\n",
       "      <td id=\"T_6960c_row3_col7\" class=\"data row3 col7\" >-0.20</td>\n",
       "      <td id=\"T_6960c_row3_col8\" class=\"data row3 col8\" >-0.56</td>\n",
       "      <td id=\"T_6960c_row3_col9\" class=\"data row3 col9\" >0.60</td>\n",
       "      <td id=\"T_6960c_row3_col10\" class=\"data row3 col10\" >1.06</td>\n",
       "      <td id=\"T_6960c_row3_col11\" class=\"data row3 col11\" >2.13</td>\n",
       "      <td id=\"T_6960c_row3_col12\" class=\"data row3 col12\" >2.09</td>\n",
       "      <td id=\"T_6960c_row3_col13\" class=\"data row3 col13\" >1.61</td>\n",
       "      <td id=\"T_6960c_row3_col14\" class=\"data row3 col14\" >0.35</td>\n",
       "      <td id=\"T_6960c_row3_col15\" class=\"data row3 col15\" >0.42</td>\n",
       "      <td id=\"T_6960c_row3_col16\" class=\"data row3 col16\" >0.03</td>\n",
       "      <td id=\"T_6960c_row3_col17\" class=\"data row3 col17\" >-0.91</td>\n",
       "    </tr>\n",
       "    <tr>\n",
       "      <th id=\"T_6960c_level0_row4\" class=\"row_heading level0 row4\" >85</th>\n",
       "      <td id=\"T_6960c_row4_col0\" class=\"data row4 col0\" >0.86</td>\n",
       "      <td id=\"T_6960c_row4_col1\" class=\"data row4 col1\" >0.86</td>\n",
       "      <td id=\"T_6960c_row4_col2\" class=\"data row4 col2\" >-0.87</td>\n",
       "      <td id=\"T_6960c_row4_col3\" class=\"data row4 col3\" >1.76</td>\n",
       "      <td id=\"T_6960c_row4_col4\" class=\"data row4 col4\" >-0.41</td>\n",
       "      <td id=\"T_6960c_row4_col5\" class=\"data row4 col5\" >-0.71</td>\n",
       "      <td id=\"T_6960c_row4_col6\" class=\"data row4 col6\" >0.15</td>\n",
       "      <td id=\"T_6960c_row4_col7\" class=\"data row4 col7\" >-1.08</td>\n",
       "      <td id=\"T_6960c_row4_col8\" class=\"data row4 col8\" >-0.60</td>\n",
       "      <td id=\"T_6960c_row4_col9\" class=\"data row4 col9\" >-0.23</td>\n",
       "      <td id=\"T_6960c_row4_col10\" class=\"data row4 col10\" >-0.27</td>\n",
       "      <td id=\"T_6960c_row4_col11\" class=\"data row4 col11\" >-0.52</td>\n",
       "      <td id=\"T_6960c_row4_col12\" class=\"data row4 col12\" >-0.90</td>\n",
       "      <td id=\"T_6960c_row4_col13\" class=\"data row4 col13\" >-0.33</td>\n",
       "      <td id=\"T_6960c_row4_col14\" class=\"data row4 col14\" >6.23</td>\n",
       "      <td id=\"T_6960c_row4_col15\" class=\"data row4 col15\" >0.02</td>\n",
       "      <td id=\"T_6960c_row4_col16\" class=\"data row4 col16\" >-0.49</td>\n",
       "      <td id=\"T_6960c_row4_col17\" class=\"data row4 col17\" >-0.04</td>\n",
       "    </tr>\n",
       "    <tr>\n",
       "      <th id=\"T_6960c_level0_row5\" class=\"row_heading level0 row5\" >174</th>\n",
       "      <td id=\"T_6960c_row5_col0\" class=\"data row5 col0\" >0.71</td>\n",
       "      <td id=\"T_6960c_row5_col1\" class=\"data row5 col1\" >0.71</td>\n",
       "      <td id=\"T_6960c_row5_col2\" class=\"data row5 col2\" >-0.72</td>\n",
       "      <td id=\"T_6960c_row5_col3\" class=\"data row5 col3\" >-0.72</td>\n",
       "      <td id=\"T_6960c_row5_col4\" class=\"data row5 col4\" >1.61</td>\n",
       "      <td id=\"T_6960c_row5_col5\" class=\"data row5 col5\" >0.42</td>\n",
       "      <td id=\"T_6960c_row5_col6\" class=\"data row5 col6\" >1.51</td>\n",
       "      <td id=\"T_6960c_row5_col7\" class=\"data row5 col7\" >1.48</td>\n",
       "      <td id=\"T_6960c_row5_col8\" class=\"data row5 col8\" >1.42</td>\n",
       "      <td id=\"T_6960c_row5_col9\" class=\"data row5 col9\" >1.69</td>\n",
       "      <td id=\"T_6960c_row5_col10\" class=\"data row5 col10\" >1.47</td>\n",
       "      <td id=\"T_6960c_row5_col11\" class=\"data row5 col11\" >1.98</td>\n",
       "      <td id=\"T_6960c_row5_col12\" class=\"data row5 col12\" >1.82</td>\n",
       "      <td id=\"T_6960c_row5_col13\" class=\"data row5 col13\" >1.57</td>\n",
       "      <td id=\"T_6960c_row5_col14\" class=\"data row5 col14\" >0.52</td>\n",
       "      <td id=\"T_6960c_row5_col15\" class=\"data row5 col15\" >1.01</td>\n",
       "      <td id=\"T_6960c_row5_col16\" class=\"data row5 col16\" >-3.91</td>\n",
       "      <td id=\"T_6960c_row5_col17\" class=\"data row5 col17\" >2.02</td>\n",
       "    </tr>\n",
       "    <tr>\n",
       "      <th id=\"T_6960c_level0_row6\" class=\"row_heading level0 row6\" >215</th>\n",
       "      <td id=\"T_6960c_row6_col0\" class=\"data row6 col0\" >3.29</td>\n",
       "      <td id=\"T_6960c_row6_col1\" class=\"data row6 col1\" >3.31</td>\n",
       "      <td id=\"T_6960c_row6_col2\" class=\"data row6 col2\" >-3.11</td>\n",
       "      <td id=\"T_6960c_row6_col3\" class=\"data row6 col3\" >0.48</td>\n",
       "      <td id=\"T_6960c_row6_col4\" class=\"data row6 col4\" >1.34</td>\n",
       "      <td id=\"T_6960c_row6_col5\" class=\"data row6 col5\" >-1.64</td>\n",
       "      <td id=\"T_6960c_row6_col6\" class=\"data row6 col6\" >3.30</td>\n",
       "      <td id=\"T_6960c_row6_col7\" class=\"data row6 col7\" >-1.29</td>\n",
       "      <td id=\"T_6960c_row6_col8\" class=\"data row6 col8\" >1.30</td>\n",
       "      <td id=\"T_6960c_row6_col9\" class=\"data row6 col9\" >2.21</td>\n",
       "      <td id=\"T_6960c_row6_col10\" class=\"data row6 col10\" >2.68</td>\n",
       "      <td id=\"T_6960c_row6_col11\" class=\"data row6 col11\" >1.76</td>\n",
       "      <td id=\"T_6960c_row6_col12\" class=\"data row6 col12\" >0.57</td>\n",
       "      <td id=\"T_6960c_row6_col13\" class=\"data row6 col13\" >-0.70</td>\n",
       "      <td id=\"T_6960c_row6_col14\" class=\"data row6 col14\" >0.29</td>\n",
       "      <td id=\"T_6960c_row6_col15\" class=\"data row6 col15\" >0.78</td>\n",
       "      <td id=\"T_6960c_row6_col16\" class=\"data row6 col16\" >0.23</td>\n",
       "      <td id=\"T_6960c_row6_col17\" class=\"data row6 col17\" >0.17</td>\n",
       "    </tr>\n",
       "    <tr>\n",
       "      <th id=\"T_6960c_level0_row7\" class=\"row_heading level0 row7\" >225</th>\n",
       "      <td id=\"T_6960c_row7_col0\" class=\"data row7 col0\" >-0.78</td>\n",
       "      <td id=\"T_6960c_row7_col1\" class=\"data row7 col1\" >-0.78</td>\n",
       "      <td id=\"T_6960c_row7_col2\" class=\"data row7 col2\" >0.76</td>\n",
       "      <td id=\"T_6960c_row7_col3\" class=\"data row7 col3\" >0.80</td>\n",
       "      <td id=\"T_6960c_row7_col4\" class=\"data row7 col4\" >-1.78</td>\n",
       "      <td id=\"T_6960c_row7_col5\" class=\"data row7 col5\" >-0.91</td>\n",
       "      <td id=\"T_6960c_row7_col6\" class=\"data row7 col6\" >-1.48</td>\n",
       "      <td id=\"T_6960c_row7_col7\" class=\"data row7 col7\" >-1.83</td>\n",
       "      <td id=\"T_6960c_row7_col8\" class=\"data row7 col8\" >-1.86</td>\n",
       "      <td id=\"T_6960c_row7_col9\" class=\"data row7 col9\" >-1.41</td>\n",
       "      <td id=\"T_6960c_row7_col10\" class=\"data row7 col10\" >-1.32</td>\n",
       "      <td id=\"T_6960c_row7_col11\" class=\"data row7 col11\" >-1.72</td>\n",
       "      <td id=\"T_6960c_row7_col12\" class=\"data row7 col12\" >-1.63</td>\n",
       "      <td id=\"T_6960c_row7_col13\" class=\"data row7 col13\" >-2.31</td>\n",
       "      <td id=\"T_6960c_row7_col14\" class=\"data row7 col14\" >-2.00</td>\n",
       "      <td id=\"T_6960c_row7_col15\" class=\"data row7 col15\" >-2.33</td>\n",
       "      <td id=\"T_6960c_row7_col16\" class=\"data row7 col16\" >-3.40</td>\n",
       "      <td id=\"T_6960c_row7_col17\" class=\"data row7 col17\" >-2.64</td>\n",
       "    </tr>\n",
       "    <tr>\n",
       "      <th id=\"T_6960c_level0_row8\" class=\"row_heading level0 row8\" >243</th>\n",
       "      <td id=\"T_6960c_row8_col0\" class=\"data row8 col0\" >1.57</td>\n",
       "      <td id=\"T_6960c_row8_col1\" class=\"data row8 col1\" >1.57</td>\n",
       "      <td id=\"T_6960c_row8_col2\" class=\"data row8 col2\" >-1.53</td>\n",
       "      <td id=\"T_6960c_row8_col3\" class=\"data row8 col3\" >1.76</td>\n",
       "      <td id=\"T_6960c_row8_col4\" class=\"data row8 col4\" >1.64</td>\n",
       "      <td id=\"T_6960c_row8_col5\" class=\"data row8 col5\" >0.69</td>\n",
       "      <td id=\"T_6960c_row8_col6\" class=\"data row8 col6\" >1.32</td>\n",
       "      <td id=\"T_6960c_row8_col7\" class=\"data row8 col7\" >0.68</td>\n",
       "      <td id=\"T_6960c_row8_col8\" class=\"data row8 col8\" >1.34</td>\n",
       "      <td id=\"T_6960c_row8_col9\" class=\"data row8 col9\" >1.75</td>\n",
       "      <td id=\"T_6960c_row8_col10\" class=\"data row8 col10\" >1.89</td>\n",
       "      <td id=\"T_6960c_row8_col11\" class=\"data row8 col11\" >1.35</td>\n",
       "      <td id=\"T_6960c_row8_col12\" class=\"data row8 col12\" >1.15</td>\n",
       "      <td id=\"T_6960c_row8_col13\" class=\"data row8 col13\" >3.05</td>\n",
       "      <td id=\"T_6960c_row8_col14\" class=\"data row8 col14\" >1.35</td>\n",
       "      <td id=\"T_6960c_row8_col15\" class=\"data row8 col15\" >0.98</td>\n",
       "      <td id=\"T_6960c_row8_col16\" class=\"data row8 col16\" >0.59</td>\n",
       "      <td id=\"T_6960c_row8_col17\" class=\"data row8 col17\" >1.37</td>\n",
       "    </tr>\n",
       "  </tbody>\n",
       "</table>\n"
      ],
      "text/plain": [
       "<pandas.io.formats.style.Styler at 0x16749f99eb0>"
      ]
     },
     "execution_count": 17,
     "metadata": {},
     "output_type": "execute_result"
    }
   ],
   "source": [
    "# Show outliers, using z_score = 3 as threshold\n",
    "show_outlier(train, 3)"
   ]
  },
  {
   "cell_type": "markdown",
   "id": "7d3979bb",
   "metadata": {},
   "source": [
    "## Remove outliers from training data"
   ]
  },
  {
   "cell_type": "code",
   "execution_count": 18,
   "id": "5205455e",
   "metadata": {},
   "outputs": [],
   "source": [
    "# Remove outliers from training data\n",
    "train_X = train.drop(show_outlier(train, 3).index).drop('brozek', axis = 1)\n",
    "train_Y = train.drop(show_outlier(train, 3).index).loc[:, 'brozek']"
   ]
  },
  {
   "cell_type": "code",
   "execution_count": 19,
   "id": "158abbbd",
   "metadata": {},
   "outputs": [],
   "source": [
    "# Prepare test data\n",
    "test_X = test.drop('brozek', axis = 1)\n",
    "test_Y = test.loc[:, 'brozek']"
   ]
  },
  {
   "cell_type": "markdown",
   "id": "76dba1d2",
   "metadata": {},
   "source": [
    "# (c) Build models"
   ]
  },
  {
   "cell_type": "markdown",
   "id": "c9f168a8",
   "metadata": {},
   "source": [
    "## Some useful functions"
   ]
  },
  {
   "cell_type": "code",
   "execution_count": 33,
   "id": "4602543e",
   "metadata": {},
   "outputs": [],
   "source": [
    "# Create a function to standardize X data\n",
    "def standardize(df):\n",
    "    sc = StandardScaler()\n",
    "    return sc.fit_transform(df)"
   ]
  },
  {
   "cell_type": "code",
   "execution_count": 20,
   "id": "43dffa4a",
   "metadata": {},
   "outputs": [],
   "source": [
    "# Create a function to calculate errors\n",
    "def calc_error(predict, real):\n",
    "    diff_sqr = []\n",
    "    for x, y in zip(predict, real):\n",
    "        diff_sqr.append(pow(x-y, 2))\n",
    "    error = sum(diff_sqr) / len(diff_sqr)\n",
    "    \n",
    "    return error"
   ]
  },
  {
   "cell_type": "code",
   "execution_count": 21,
   "id": "c6f34162",
   "metadata": {},
   "outputs": [],
   "source": [
    "# Create a function to calculate AIC\n",
    "def calc_aic(pred, real, n_param):\n",
    "    mean_sse = calc_error(pred, real)\n",
    "    aic = len(pred) * np.log(mean_sse) + 2 * n_param\n",
    "\n",
    "    return aic"
   ]
  },
  {
   "cell_type": "code",
   "execution_count": 22,
   "id": "1b68f77f",
   "metadata": {},
   "outputs": [],
   "source": [
    "# Create a function to find the best subset of k\n",
    "def find_best_k(model, X, Y, k):\n",
    "    # Create a dict to store the searching results\n",
    "    best_k = {'Variables':[], 'Train_Err':[]}\n",
    "    # Search combinations of variables\n",
    "    for cols in combinations(X.columns, k):\n",
    "        # Subset the variables\n",
    "        sub_X = X.loc[:,cols]\n",
    "        # Standardize variables\n",
    "        temp_sc = StandardScaler()\n",
    "        sub_X_std = temp_sc.fit_transform(sub_X)\n",
    "        # Fit the model\n",
    "        model.fit(sub_X_std, Y)\n",
    "        pred_train = model.predict(sub_X_std)\n",
    "        train_err = calc_error(pred_train, Y)\n",
    "        # Store the variable selection and corresponding training error\n",
    "        best_k['Variables'].append(cols)\n",
    "        best_k['Train_Err'].append(train_err)\n",
    "    \n",
    "    # Convert to dataframe\n",
    "    best_k_df = pd.DataFrame.from_dict(best_k)\n",
    "    \n",
    "    # Sort the dataframe by training error\n",
    "    best_k_sorted = best_k_df.sort_values(by = 'Train_Err')\n",
    "    \n",
    "    # Gather info for the best k\n",
    "    best_params = best_k_sorted.iloc[0,0]\n",
    "    best_error = best_k_sorted.iloc[0,1]\n",
    "  \n",
    "    # Store the info in a dictionary\n",
    "    result = {}\n",
    "    \n",
    "    result['Best_param'] = best_params\n",
    "    result['Best_error'] = best_error\n",
    "    result['All_results'] = best_k_sorted\n",
    "    \n",
    "    return result\n",
    "        \n",
    "    "
   ]
  },
  {
   "cell_type": "code",
   "execution_count": 23,
   "id": "88ea6a42",
   "metadata": {},
   "outputs": [],
   "source": [
    "# Create a function to find best parameters stepwise using AIC\n",
    "def find_best_stepwise(model, X, Y):\n",
    "    initial_features = X.columns.tolist()\n",
    "    best_features = []\n",
    "    discarded = []\n",
    "    remaining_features = [i for i in initial_features if i not in best_features and i not in discarded]\n",
    "    \n",
    "    while (len(remaining_features) > 0):\n",
    "        \n",
    "        remaining_features = [i for i in initial_features if i not in best_features and i not in discarded]\n",
    "        current_features = best_features\n",
    "        temp_fwd = {'combo':[], 'aic':[]}\n",
    "        temp_bwd = {'combo':[], 'aic':[]}\n",
    "        \n",
    "        # Add one feature and calculate AIC\n",
    "        for x in remaining_features:\n",
    "            \n",
    "            fwd_combo = current_features + [x]\n",
    "            temp_fwd['combo'].append(fwd_combo)\n",
    "            model.fit(standardize(X.loc[:, fwd_combo]), Y)\n",
    "            fwd_pred = model.predict(standardize(X.loc[:, fwd_combo]))\n",
    "            fwd_aic = calc_aic(fwd_pred, Y, len(fwd_combo))\n",
    "            temp_fwd['aic'].append(fwd_aic)\n",
    "         \n",
    "        # Find minimum AIC\n",
    "        temp_fwd_df = pd.DataFrame.from_dict(temp_fwd)\n",
    "        fwd_best = temp_fwd_df.sort_values(by = 'aic').iloc[0]   \n",
    "        best_features = fwd_best['combo']\n",
    "        \n",
    "\n",
    "        if len(fwd_best['combo']) > 1:\n",
    "            \n",
    "            # Remove one feature and calculate AIC again\n",
    "            for y in combinations(fwd_best['combo'], len(fwd_best['combo'])-1):\n",
    "            \n",
    "                bwd_combo = y\n",
    "                temp_bwd['combo'].append(bwd_combo)\n",
    "                model.fit(standardize(X.loc[:, bwd_combo]), Y)\n",
    "                bwd_pred = model.predict(standardize(X.loc[:, bwd_combo]))\n",
    "                temp_bwd['aic'].append(calc_aic(bwd_pred, Y, len(bwd_combo)))\n",
    "            \n",
    "            # Find the minimum AIC\n",
    "            temp_bwd_df = pd.DataFrame.from_dict(temp_bwd)\n",
    "            bwd_best = temp_bwd_df.sort_values(by = 'aic').iloc[0]\n",
    "        \n",
    "            # Compare AIC between the minimum of one step forward and the minimum of one step backward\n",
    "            if fwd_best['aic'] - bwd_best['aic'] <= -0.001:\n",
    "                discarded.append(set(fwd_best['combo']) - set(bwd_best['combo']))\n",
    "            else:\n",
    "                best_features = bwd_best['combo']\n",
    "                break\n",
    "    \n",
    "    return best_features\n",
    "        "
   ]
  },
  {
   "cell_type": "code",
   "execution_count": 64,
   "id": "ad412f87",
   "metadata": {},
   "outputs": [],
   "source": [
    "# Create a function to perform Monte Carlo CV\n",
    "def MC_CV(model, data, test_size, B):\n",
    "    test_error = []\n",
    "    for i in tqdm(range(B)):\n",
    "        # Random sample training and testing set\n",
    "        temp_test = data.sample(test_size)\n",
    "        temp_train = data.drop(labels = temp_test.index)\n",
    "        \n",
    "        temp_train_X = temp_train.drop('brozek', axis = 1)\n",
    "        temp_train_Y = temp_train.loc[:,'brozek']\n",
    "        \n",
    "        temp_test_X = temp_test.drop('brozek', axis = 1)\n",
    "        temp_test_Y = temp_test.loc[:, 'brozek']\n",
    "        \n",
    "        # Standardize data\n",
    "        sc = StandardScaler()\n",
    "        sc.fit(temp_train_X)\n",
    "        temp_train_X_std = sc.transform(temp_train_X)\n",
    "        temp_test_X_std = sc.transform(temp_test_X)\n",
    "        \n",
    "        # Fit the model\n",
    "        model.fit(temp_train_X_std, temp_train_Y)\n",
    "        temp_pred = model.predict(temp_test_X_std)\n",
    "        \n",
    "        # Calculate Testing Error\n",
    "        te = calc_error(temp_pred, temp_test_Y)\n",
    "        \n",
    "        test_error.append(te)\n",
    "    \n",
    "    return test_error\n",
    "        \n",
    "        "
   ]
  },
  {
   "cell_type": "markdown",
   "id": "a76c9ba3",
   "metadata": {},
   "source": [
    "## (1) Linear Regression using all predictors"
   ]
  },
  {
   "cell_type": "code",
   "execution_count": 25,
   "id": "7ef073fa",
   "metadata": {},
   "outputs": [],
   "source": [
    "# Standardize data for mod_1\n",
    "sc_1 = StandardScaler()\n",
    "sc_1.fit(train_X)\n",
    "mod_1_train_X_std = sc_1.transform(train_X)\n",
    "mod_1_test_X_std = sc_1.transform(test_X)"
   ]
  },
  {
   "cell_type": "code",
   "execution_count": 26,
   "id": "904de8c1",
   "metadata": {},
   "outputs": [
    {
     "data": {
      "text/plain": [
       "LinearRegression()"
      ]
     },
     "execution_count": 26,
     "metadata": {},
     "output_type": "execute_result"
    }
   ],
   "source": [
    "# Linear Regression using all predictors\n",
    "mod_1 = LinearRegression()\n",
    "mod_1.fit(mod_1_train_X_std, train_Y)\n"
   ]
  },
  {
   "cell_type": "markdown",
   "id": "7a01add1",
   "metadata": {},
   "source": [
    "## (2) Linear Regression with the best subset k=5 "
   ]
  },
  {
   "cell_type": "code",
   "execution_count": 27,
   "id": "567dfac1",
   "metadata": {},
   "outputs": [],
   "source": [
    "# Find the best 5 predictors\n",
    "best_five = find_best_k(LinearRegression(), train_X, train_Y, 5)"
   ]
  },
  {
   "cell_type": "code",
   "execution_count": 28,
   "id": "65778906",
   "metadata": {},
   "outputs": [
    {
     "data": {
      "text/plain": [
       "('siri', 'density', 'weight', 'free', 'knee')"
      ]
     },
     "execution_count": 28,
     "metadata": {},
     "output_type": "execute_result"
    }
   ],
   "source": [
    "# Show selected 5 variables\n",
    "best_five['Best_param']"
   ]
  },
  {
   "cell_type": "code",
   "execution_count": 29,
   "id": "606c7969",
   "metadata": {},
   "outputs": [],
   "source": [
    "# Subset the data based on the best 5 predictors\n",
    "best_five_train_X = train_X.loc[:, best_five['Best_param']]\n",
    "best_five_test_X = test_X.loc[:, best_five['Best_param']]"
   ]
  },
  {
   "cell_type": "code",
   "execution_count": 30,
   "id": "a72e7583",
   "metadata": {},
   "outputs": [],
   "source": [
    "# Standardize data for mod_2\n",
    "sc_2 = StandardScaler()\n",
    "sc_2.fit(best_five_train_X)\n",
    "mod_2_train_X_std = sc_2.transform(best_five_train_X)\n",
    "mod_2_test_X_std = sc_2.transform(best_five_test_X)"
   ]
  },
  {
   "cell_type": "code",
   "execution_count": 31,
   "id": "2eeaadd8",
   "metadata": {},
   "outputs": [
    {
     "data": {
      "text/plain": [
       "LinearRegression()"
      ]
     },
     "execution_count": 31,
     "metadata": {},
     "output_type": "execute_result"
    }
   ],
   "source": [
    "# Linear Regression using only the best 5 predictors\n",
    "mod_2 = LinearRegression()\n",
    "mod_2.fit(mod_2_train_X_std, train_Y)"
   ]
  },
  {
   "cell_type": "markdown",
   "id": "6c3fd0ed",
   "metadata": {},
   "source": [
    "## (3) Linear Regression with stepwise-selected variables using AIC"
   ]
  },
  {
   "cell_type": "code",
   "execution_count": 34,
   "id": "6aa4657a",
   "metadata": {},
   "outputs": [],
   "source": [
    "# Stepwise select variables using AIC\n",
    "best_param_aic = find_best_stepwise(LinearRegression(), train_X, train_Y)"
   ]
  },
  {
   "cell_type": "code",
   "execution_count": 35,
   "id": "ef4b98a8",
   "metadata": {},
   "outputs": [
    {
     "data": {
      "text/plain": [
       "('siri', 'density', 'forearm', 'biceps', 'knee', 'thigh', 'wrist')"
      ]
     },
     "execution_count": 35,
     "metadata": {},
     "output_type": "execute_result"
    }
   ],
   "source": [
    "# Show the selected variables\n",
    "best_param_aic"
   ]
  },
  {
   "cell_type": "code",
   "execution_count": 36,
   "id": "ecacf1bb",
   "metadata": {},
   "outputs": [],
   "source": [
    "# Subset the data based on the best variables\n",
    "best_aic_train_X = train_X.loc[:, best_param_aic]\n",
    "best_aic_test_X = test_X.loc[:, best_param_aic]"
   ]
  },
  {
   "cell_type": "code",
   "execution_count": 37,
   "id": "4678e89a",
   "metadata": {},
   "outputs": [],
   "source": [
    "# Standardize data for mod_3\n",
    "sc_3 = StandardScaler()\n",
    "sc_3.fit(best_aic_train_X)\n",
    "mod_3_train_X_std = sc_3.transform(best_aic_train_X)\n",
    "mod_3_test_X_std = sc_3.transform(best_aic_test_X)"
   ]
  },
  {
   "cell_type": "code",
   "execution_count": 38,
   "id": "a4947a54",
   "metadata": {},
   "outputs": [
    {
     "data": {
      "text/plain": [
       "LinearRegression()"
      ]
     },
     "execution_count": 38,
     "metadata": {},
     "output_type": "execute_result"
    }
   ],
   "source": [
    "# Linear Regression using the bese variables\n",
    "mod_3 = LinearRegression()\n",
    "mod_3.fit(mod_3_train_X_std, train_Y)"
   ]
  },
  {
   "cell_type": "markdown",
   "id": "131f76a6",
   "metadata": {},
   "source": [
    "## (4) Ridge regression"
   ]
  },
  {
   "cell_type": "code",
   "execution_count": 39,
   "id": "e94b8181",
   "metadata": {},
   "outputs": [],
   "source": [
    "# Standardize data for mod_4\n",
    "sc_4 = StandardScaler()\n",
    "sc_4.fit(train_X)\n",
    "mod_4_train_X_std = sc_4.transform(train_X)\n",
    "mod_4_test_X_std = sc_4.transform(test_X)"
   ]
  },
  {
   "cell_type": "code",
   "execution_count": 40,
   "id": "0b73c058",
   "metadata": {},
   "outputs": [
    {
     "data": {
      "text/plain": [
       "RidgeCV(alphas=array([1.e-04, 1.e-03, 1.e-02, 1.e-01, 5.e-01, 1.e+00, 5.e+00, 1.e+01]))"
      ]
     },
     "execution_count": 40,
     "metadata": {},
     "output_type": "execute_result"
    }
   ],
   "source": [
    "# Ridge regression using cv\n",
    "mod_4 = RidgeCV(alphas=[0.0001, 0.001, 0.01, 0.1, 0.5, 1, 5, 10])\n",
    "mod_4.fit(mod_4_train_X_std, train_Y)"
   ]
  },
  {
   "cell_type": "code",
   "execution_count": 44,
   "id": "e851d068",
   "metadata": {},
   "outputs": [
    {
     "data": {
      "text/plain": [
       "siri       7.153354\n",
       "adipos     0.221830\n",
       "height     0.159315\n",
       "weight     0.148792\n",
       "thigh      0.074909\n",
       "forearm    0.052689\n",
       "wrist      0.042971\n",
       "abdom      0.007179\n",
       "chest      0.002348\n",
       "hip        0.000270\n",
       "neck       0.000004\n",
       "ankle     -0.000639\n",
       "age       -0.009579\n",
       "biceps    -0.057587\n",
       "knee      -0.088945\n",
       "density   -0.167787\n",
       "free      -0.356611\n",
       "dtype: float64"
      ]
     },
     "execution_count": 44,
     "metadata": {},
     "output_type": "execute_result"
    }
   ],
   "source": [
    "# Show the coeficients after Ridge regression\n",
    "pd.Series(mod_4.coef_, index=train_X.columns).sort_values(ascending=False)"
   ]
  },
  {
   "cell_type": "markdown",
   "id": "35c235b2",
   "metadata": {},
   "source": [
    "## (5) LASSO"
   ]
  },
  {
   "cell_type": "code",
   "execution_count": 45,
   "id": "a9979c7a",
   "metadata": {},
   "outputs": [],
   "source": [
    "# Standardize data for mod_5\n",
    "sc_5 = StandardScaler()\n",
    "sc_5.fit(train_X)\n",
    "mod_5_train_X_std = sc_5.transform(train_X)\n",
    "mod_5_test_X_std = sc_5.transform(test_X)"
   ]
  },
  {
   "cell_type": "code",
   "execution_count": 46,
   "id": "201aa526",
   "metadata": {},
   "outputs": [
    {
     "data": {
      "text/plain": [
       "LassoCV()"
      ]
     },
     "execution_count": 46,
     "metadata": {},
     "output_type": "execute_result"
    }
   ],
   "source": [
    "# LASSO\n",
    "mod_5 = LassoCV()\n",
    "mod_5.fit(mod_5_train_X_std, train_Y)"
   ]
  },
  {
   "cell_type": "code",
   "execution_count": 47,
   "id": "5ad428e2",
   "metadata": {},
   "outputs": [
    {
     "data": {
      "text/plain": [
       "siri       7.434226\n",
       "thigh      0.004822\n",
       "forearm    0.002665\n",
       "abdom      0.000000\n",
       "biceps     0.000000\n",
       "ankle      0.000000\n",
       "knee       0.000000\n",
       "hip        0.000000\n",
       "chest      0.000000\n",
       "neck       0.000000\n",
       "free       0.000000\n",
       "adipos     0.000000\n",
       "height     0.000000\n",
       "weight     0.000000\n",
       "age       -0.000000\n",
       "wrist      0.000000\n",
       "density   -0.134646\n",
       "dtype: float64"
      ]
     },
     "execution_count": 47,
     "metadata": {},
     "output_type": "execute_result"
    }
   ],
   "source": [
    "# Show the coeficients after LASSO regression\n",
    "pd.Series(mod_5.coef_, index=train_X.columns).sort_values(ascending=False)"
   ]
  },
  {
   "cell_type": "markdown",
   "id": "49d4eceb",
   "metadata": {},
   "source": [
    "## (6) Principal component regression"
   ]
  },
  {
   "cell_type": "code",
   "execution_count": 48,
   "id": "33b26a0e",
   "metadata": {},
   "outputs": [],
   "source": [
    "# Create a PCA object. We would like it to explain at least 95% of the variance in our data\n",
    "pca = PCA(n_components = 0.95)\n",
    "mod_6 = LinearRegression()"
   ]
  },
  {
   "cell_type": "code",
   "execution_count": 49,
   "id": "faec4ad3",
   "metadata": {},
   "outputs": [],
   "source": [
    "# Standardize data for PCA in mod_6\n",
    "sc_6 = StandardScaler()\n",
    "sc_6.fit(train_X)\n",
    "mod_6_train_X_std = sc_6.transform(train_X)\n",
    "mod_6_test_X_std = sc_6.transform(test_X)"
   ]
  },
  {
   "cell_type": "code",
   "execution_count": 50,
   "id": "924a39d3",
   "metadata": {},
   "outputs": [],
   "source": [
    "# Reduce the training data using PCA\n",
    "train_X_reduced = pca.fit_transform(mod_6_train_X_std)"
   ]
  },
  {
   "cell_type": "code",
   "execution_count": 51,
   "id": "05610f87",
   "metadata": {},
   "outputs": [
    {
     "data": {
      "text/plain": [
       "LinearRegression()"
      ]
     },
     "execution_count": 51,
     "metadata": {},
     "output_type": "execute_result"
    }
   ],
   "source": [
    "# Train Linear Regression model using reduced training data\n",
    "mod_6.fit(train_X_reduced, train_Y)"
   ]
  },
  {
   "cell_type": "markdown",
   "id": "36f4b276",
   "metadata": {},
   "source": [
    "## (7) Partial Least Squares"
   ]
  },
  {
   "cell_type": "code",
   "execution_count": 52,
   "id": "b78aabf8",
   "metadata": {},
   "outputs": [],
   "source": [
    "# In PLS Regression, we could no longer use n_components to control the % of variance explained.\n",
    "# n_components has to be an integer.\n",
    "# Therefore, an iterative approach is used to find the n to minimize training error\n",
    "n_comp = []\n",
    "train_err = []\n",
    "\n",
    "for i in range(1, 18):\n",
    "    temp_mod = PLSRegression(n_components = i)\n",
    "    temp_mod.fit(train_X, train_Y)\n",
    "    \n",
    "    temp_pred = temp_mod.predict(train_X)\n",
    "    temp_pred_flat = [item for sublist in temp_pred for item in sublist]\n",
    "    \n",
    "    n_comp.append(i)\n",
    "    train_err.append(calc_error(temp_pred_flat, train_Y))\n",
    "    \n",
    "result = pd.DataFrame({'n_components':n_comp, 'training_err':train_err})\n"
   ]
  },
  {
   "cell_type": "code",
   "execution_count": 53,
   "id": "8a6c9c95",
   "metadata": {},
   "outputs": [
    {
     "data": {
      "image/png": "[encoded data removed]",
      "text/plain": [
       "<Figure size 432x288 with 1 Axes>"
      ]
     },
     "metadata": {
      "needs_background": "light"
     },
     "output_type": "display_data"
    }
   ],
   "source": [
    "# Visualize the result\n",
    "plt.plot('n_components', 'training_err', data = result, marker='o')\n",
    "plt.xlabel('n_components')\n",
    "plt.ylabel('training_error')\n",
    "plt.title('Training Error VS N_Components for PLS Regression')\n",
    "plt.show()"
   ]
  },
  {
   "cell_type": "code",
   "execution_count": 54,
   "id": "5a3e336c",
   "metadata": {},
   "outputs": [
    {
     "data": {
      "text/plain": [
       "PLSRegression(n_components=3)"
      ]
     },
     "execution_count": 54,
     "metadata": {},
     "output_type": "execute_result"
    }
   ],
   "source": [
    "# It is found that n_components = 3 gives a decent model\n",
    "# PLS Regression has built-in scaler. No need to standardize data.\n",
    "mod_7 = PLSRegression(n_components = 3)\n",
    "mod_7.fit(train_X, train_Y)"
   ]
  },
  {
   "cell_type": "markdown",
   "id": "f6ac0695",
   "metadata": {},
   "source": [
    "# (d) Make predictions and evaluate Testing error"
   ]
  },
  {
   "cell_type": "code",
   "execution_count": 55,
   "id": "4df98a8c",
   "metadata": {},
   "outputs": [],
   "source": [
    "# Create a dictionary to store model names and corresponding testing error\n",
    "mod_te = {'model':[], 'testing_error':[]}"
   ]
  },
  {
   "cell_type": "code",
   "execution_count": 56,
   "id": "0d050fe5",
   "metadata": {},
   "outputs": [],
   "source": [
    "# mod_1: Linear Regression using all variables\n",
    "pred_1 = mod_1.predict(mod_1_test_X_std)\n",
    "mod_te['model'].append('mod_1')\n",
    "mod_te['testing_error'].append(calc_error(pred_1, test_Y))"
   ]
  },
  {
   "cell_type": "code",
   "execution_count": 57,
   "id": "02af4153",
   "metadata": {},
   "outputs": [],
   "source": [
    "# mod_2: Linear Regression using the best 5 variables\n",
    "pred_2 = mod_2.predict(mod_2_test_X_std)\n",
    "mod_te['model'].append('mod_2')\n",
    "mod_te['testing_error'].append(calc_error(pred_2, test_Y))"
   ]
  },
  {
   "cell_type": "code",
   "execution_count": 58,
   "id": "fe3eb966",
   "metadata": {},
   "outputs": [],
   "source": [
    "# mod_3: Linear Regression using variables selected by AIC\n",
    "pred_3 = mod_3.predict(mod_3_test_X_std)\n",
    "mod_te['model'].append('mod_3')\n",
    "mod_te['testing_error'].append(calc_error(pred_3, test_Y))"
   ]
  },
  {
   "cell_type": "code",
   "execution_count": 59,
   "id": "98c641c1",
   "metadata": {},
   "outputs": [],
   "source": [
    "# mod_4: Ridge regression\n",
    "pred_4 = mod_4.predict(mod_4_test_X_std)\n",
    "mod_te['model'].append('mod_4')\n",
    "mod_te['testing_error'].append(calc_error(pred_4, test_Y))"
   ]
  },
  {
   "cell_type": "code",
   "execution_count": 60,
   "id": "2453e34f",
   "metadata": {},
   "outputs": [],
   "source": [
    "# mod_5: LASSO\n",
    "pred_5 = mod_5.predict(mod_5_test_X_std)\n",
    "mod_te['model'].append('mod_5')\n",
    "mod_te['testing_error'].append(calc_error(pred_5, test_Y))"
   ]
  },
  {
   "cell_type": "code",
   "execution_count": 61,
   "id": "91d53700",
   "metadata": {},
   "outputs": [],
   "source": [
    "# mod_6: Principal Component Regression\n",
    "test_X_reduced = pca.transform(mod_6_test_X_std)\n",
    "pred_6 = mod_6.predict(test_X_reduced)\n",
    "mod_te['model'].append('mod_6')\n",
    "mod_te['testing_error'].append(calc_error(pred_6, test_Y))"
   ]
  },
  {
   "cell_type": "code",
   "execution_count": 62,
   "id": "827bf5be",
   "metadata": {},
   "outputs": [],
   "source": [
    "# mod_7: Partial least squares\n",
    "pred_7 = mod_7.predict(test_X)\n",
    "pred_7_flat = [item for sublist in pred_7 for item in sublist]\n",
    "mod_te['model'].append('mod_7')\n",
    "mod_te['testing_error'].append(calc_error(pred_7_flat, test_Y))"
   ]
  },
  {
   "cell_type": "code",
   "execution_count": 63,
   "id": "7ab9dba6",
   "metadata": {},
   "outputs": [
    {
     "data": {
      "image/png": "[encoded data removed]",
      "text/plain": [
       "<Figure size 432x288 with 1 Axes>"
      ]
     },
     "metadata": {
      "needs_background": "light"
     },
     "output_type": "display_data"
    }
   ],
   "source": [
    "# Visualize the testing errors for each model\n",
    "fig = plt.bar(mod_te['model'], mod_te['testing_error'])\n",
    "plt.bar_label(fig, fmt = '%.2f')\n",
    "plt.xlabel('Model')\n",
    "plt.ylabel('Testing Error')\n",
    "plt.title('Testing Error for Each Model')\n",
    "plt.show()"
   ]
  },
  {
   "cell_type": "markdown",
   "id": "a011f472",
   "metadata": {},
   "source": [
    "# (e) Monte Carlo CV for each model"
   ]
  },
  {
   "cell_type": "code",
   "execution_count": 65,
   "id": "d508cdb4",
   "metadata": {},
   "outputs": [],
   "source": [
    "# Create a dictionary to store CV results\n",
    "cv_result = {}"
   ]
  },
  {
   "cell_type": "code",
   "execution_count": 66,
   "id": "15db6dcb",
   "metadata": {},
   "outputs": [],
   "source": [
    "# Remove outliers to keep consistant with previous parts\n",
    "data = fat.drop(show_outlier(train, 3).index)"
   ]
  },
  {
   "cell_type": "code",
   "execution_count": 67,
   "id": "2aa91869",
   "metadata": {
    "scrolled": true
   },
   "outputs": [
    {
     "data": {
      "application/vnd.jupyter.widget-view+json": {
       "model_id": "bdd590c635964d0ca27764f0e3f51b3c",
       "version_major": 2,
       "version_minor": 0
      },
      "text/plain": [
       "  0%|          | 0/100 [00:00<?, ?it/s]"
      ]
     },
     "metadata": {},
     "output_type": "display_data"
    }
   ],
   "source": [
    "# mod_1\n",
    "cv_result['mod_1'] = MC_CV(mod_1, data, 25, 100)"
   ]
  },
  {
   "cell_type": "code",
   "execution_count": 68,
   "id": "c18c0cfb",
   "metadata": {
    "scrolled": true
   },
   "outputs": [
    {
     "data": {
      "application/vnd.jupyter.widget-view+json": {
       "model_id": "a165c10eb9f44098ad397c1871c74b08",
       "version_major": 2,
       "version_minor": 0
      },
      "text/plain": [
       "  0%|          | 0/100 [00:00<?, ?it/s]"
      ]
     },
     "metadata": {},
     "output_type": "display_data"
    }
   ],
   "source": [
    "# mod_2\n",
    "# Get columns needed for mod_2\n",
    "mod_2_cols = list(best_five['Best_param'])\n",
    "mod_2_cols.append('brozek')\n",
    "# Subset data for mod_2\n",
    "mod_2_data = data.loc[:, mod_2_cols]\n",
    "cv_result['mod_2'] = MC_CV(mod_2, mod_2_data, 25, 100)"
   ]
  },
  {
   "cell_type": "code",
   "execution_count": 69,
   "id": "9aa65cc9",
   "metadata": {
    "scrolled": true
   },
   "outputs": [
    {
     "data": {
      "application/vnd.jupyter.widget-view+json": {
       "model_id": "4fe536d8eee54bedbd086fc22adc72c5",
       "version_major": 2,
       "version_minor": 0
      },
      "text/plain": [
       "  0%|          | 0/100 [00:00<?, ?it/s]"
      ]
     },
     "metadata": {},
     "output_type": "display_data"
    }
   ],
   "source": [
    "# mod_3\n",
    "# Get columns needed for mod_3\n",
    "mod_3_cols = list(best_param_aic)\n",
    "mod_3_cols.append('brozek')\n",
    "# Subset data for mod_3\n",
    "mod_3_data = data.loc[:, mod_3_cols]\n",
    "cv_result['mod_3'] = MC_CV(mod_3, mod_3_data, 25, 100)"
   ]
  },
  {
   "cell_type": "code",
   "execution_count": 70,
   "id": "90b5bf56",
   "metadata": {
    "scrolled": true
   },
   "outputs": [
    {
     "data": {
      "application/vnd.jupyter.widget-view+json": {
       "model_id": "8e7a96b231a44ceabe772fa57afa07ad",
       "version_major": 2,
       "version_minor": 0
      },
      "text/plain": [
       "  0%|          | 0/100 [00:00<?, ?it/s]"
      ]
     },
     "metadata": {},
     "output_type": "display_data"
    }
   ],
   "source": [
    "# mod_4\n",
    "cv_result['mod_4'] = MC_CV(mod_4, data, 25, 100)"
   ]
  },
  {
   "cell_type": "code",
   "execution_count": 71,
   "id": "755876bd",
   "metadata": {
    "scrolled": true
   },
   "outputs": [
    {
     "data": {
      "application/vnd.jupyter.widget-view+json": {
       "model_id": "afc949e11c4840c78c0e8717a8043a3a",
       "version_major": 2,
       "version_minor": 0
      },
      "text/plain": [
       "  0%|          | 0/100 [00:00<?, ?it/s]"
      ]
     },
     "metadata": {},
     "output_type": "display_data"
    }
   ],
   "source": [
    "# mod_5\n",
    "cv_result['mod_5'] = MC_CV(mod_5, data, 25, 100)"
   ]
  },
  {
   "cell_type": "code",
   "execution_count": 73,
   "id": "f84de83b",
   "metadata": {},
   "outputs": [
    {
     "data": {
      "application/vnd.jupyter.widget-view+json": {
       "model_id": "2c5341f79525490185550153024b14c5",
       "version_major": 2,
       "version_minor": 0
      },
      "text/plain": [
       "  0%|          | 0/100 [00:00<?, ?it/s]"
      ]
     },
     "metadata": {},
     "output_type": "display_data"
    }
   ],
   "source": [
    "# mod_6\n",
    "# Since mod_6 (PCA Regression) includes an extra PCA step after each train-test split, the MC_CV() function can not be used.\n",
    "# CV is performed in a loop\n",
    "mod_6_cv = []\n",
    "for i in tqdm(range(100)):\n",
    "    # Random sample training and testing set\n",
    "    mod_6_test = data.sample(25)\n",
    "    mod_6_train = data.drop(labels = mod_6_test.index)\n",
    "    \n",
    "    # Split X and Y\n",
    "    mod_6_train_X = mod_6_train.drop('brozek', axis = 1)\n",
    "    mod_6_train_Y = mod_6_train.loc[:,'brozek']\n",
    "        \n",
    "    mod_6_test_X = mod_6_test.drop('brozek', axis = 1)\n",
    "    mod_6_test_Y = mod_6_test.loc[:, 'brozek']\n",
    "    \n",
    "    # Standardize data for PCA in mod_6\n",
    "    sc_pca = StandardScaler()\n",
    "    sc_pca.fit(mod_6_train_X)\n",
    "    mod_6_train_X_std = sc_pca.transform(mod_6_train_X)\n",
    "    mod_6_test_X_std = sc_pca.transform(mod_6_test_X)\n",
    "    \n",
    "    # Use PCA to reduce X\n",
    "    temp_pca = PCA(n_components = 0.95)\n",
    "    temp_mod = LinearRegression()\n",
    "    mod_6_train_X_reduced = temp_pca.fit_transform(mod_6_train_X_std)\n",
    "    # Fit the model\n",
    "    temp_mod.fit(mod_6_train_X_reduced, mod_6_train_Y)\n",
    "    # Make prediction\n",
    "    mod_6_test_X_reduced = temp_pca.transform(mod_6_test_X_std)\n",
    "    p = temp_mod.predict(mod_6_test_X_reduced)\n",
    "    \n",
    "    # Calculate Testing Error\n",
    "    mod_6_cv.append(calc_error(p, mod_6_test_Y))\n",
    "        \n",
    "cv_result['mod_6'] = mod_6_cv"
   ]
  },
  {
   "cell_type": "code",
   "execution_count": 74,
   "id": "749f1d1b",
   "metadata": {},
   "outputs": [
    {
     "data": {
      "application/vnd.jupyter.widget-view+json": {
       "model_id": "5130269f43d84b92b3026ec4f7479d93",
       "version_major": 2,
       "version_minor": 0
      },
      "text/plain": [
       "  0%|          | 0/100 [00:00<?, ?it/s]"
      ]
     },
     "metadata": {},
     "output_type": "display_data"
    }
   ],
   "source": [
    "# mod_7\n",
    "# Since PLSRegression() has built-in scaling mechanism, MC_CV() is not used here.\n",
    "mod_7_cv = []\n",
    "for i in tqdm(range(100)):\n",
    "    # Random sample training and testing set\n",
    "    mod_7_test = data.sample(25)\n",
    "    mod_7_train = data.drop(labels = mod_7_test.index)\n",
    "    \n",
    "    # Split X and Y\n",
    "    mod_7_train_X = mod_7_train.drop('brozek', axis = 1)\n",
    "    mod_7_train_Y = mod_7_train.loc[:,'brozek']\n",
    "    mod_7_test_X = mod_7_test.drop('brozek', axis = 1)\n",
    "    mod_7_test_Y = mod_7_test.loc[:, 'brozek']\n",
    "    \n",
    "    # Train the model\n",
    "    pls = PLSRegression(n_components = 3)\n",
    "    pls.fit(mod_7_train_X, mod_7_train_Y)\n",
    "    \n",
    "    # Make prediction\n",
    "    p7 = pls.predict(mod_7_test_X)\n",
    "    p7_flat = [item for sublist in p7 for item in sublist]\n",
    "\n",
    "    \n",
    "    # Calculate Testing Error\n",
    "    mod_7_cv.append(calc_error(p7_flat, mod_7_test_Y))\n",
    "    \n",
    "cv_result['mod_7'] = mod_7_cv\n",
    "        "
   ]
  },
  {
   "cell_type": "code",
   "execution_count": 75,
   "id": "5efb8246",
   "metadata": {},
   "outputs": [],
   "source": [
    "# Visulaize the CV result for each model\n",
    "cv_df = pd.DataFrame.from_dict(cv_result)"
   ]
  },
  {
   "cell_type": "code",
   "execution_count": 76,
   "id": "bbba06eb",
   "metadata": {},
   "outputs": [
    {
     "data": {
      "image/png": "[encoded data removed]",
      "text/plain": [
       "<Figure size 432x288 with 1 Axes>"
      ]
     },
     "metadata": {
      "needs_background": "light"
     },
     "output_type": "display_data"
    }
   ],
   "source": [
    "names = cv_df.columns\n",
    "mean = cv_df.mean()\n",
    "std = cv_df.std()\n",
    "\n",
    "plt.errorbar(x = names, y = mean, yerr = std, linestyle='None', marker='o', capsize = 3)\n",
    "plt.xlabel('Model')\n",
    "plt.ylabel('Avg Testing Error')\n",
    "plt.title('Monte Carlo CV for each Model')\n",
    "\n",
    "plt.show()"
   ]
  },
  {
   "cell_type": "code",
   "execution_count": 77,
   "id": "e0272b18",
   "metadata": {},
   "outputs": [
    {
     "data": {
      "text/html": [
       "<div>\n",
       "<style scoped>\n",
       "    .dataframe tbody tr th:only-of-type {\n",
       "        vertical-align: middle;\n",
       "    }\n",
       "\n",
       "    .dataframe tbody tr th {\n",
       "        vertical-align: top;\n",
       "    }\n",
       "\n",
       "    .dataframe thead th {\n",
       "        text-align: right;\n",
       "    }\n",
       "</style>\n",
       "<table border=\"1\" class=\"dataframe\">\n",
       "  <thead>\n",
       "    <tr style=\"text-align: right;\">\n",
       "      <th></th>\n",
       "      <th>mod_1</th>\n",
       "      <th>mod_2</th>\n",
       "      <th>mod_3</th>\n",
       "      <th>mod_4</th>\n",
       "      <th>mod_5</th>\n",
       "      <th>mod_6</th>\n",
       "      <th>mod_7</th>\n",
       "    </tr>\n",
       "  </thead>\n",
       "  <tbody>\n",
       "    <tr>\n",
       "      <th>count</th>\n",
       "      <td>100.000000</td>\n",
       "      <td>100.000000</td>\n",
       "      <td>100.000000</td>\n",
       "      <td>100.000000</td>\n",
       "      <td>100.000000</td>\n",
       "      <td>100.000000</td>\n",
       "      <td>100.000000</td>\n",
       "    </tr>\n",
       "    <tr>\n",
       "      <th>mean</th>\n",
       "      <td>0.050507</td>\n",
       "      <td>0.049218</td>\n",
       "      <td>0.038833</td>\n",
       "      <td>0.049296</td>\n",
       "      <td>0.037095</td>\n",
       "      <td>0.396600</td>\n",
       "      <td>0.767469</td>\n",
       "    </tr>\n",
       "    <tr>\n",
       "      <th>std</th>\n",
       "      <td>0.051657</td>\n",
       "      <td>0.139711</td>\n",
       "      <td>0.059113</td>\n",
       "      <td>0.051363</td>\n",
       "      <td>0.044957</td>\n",
       "      <td>0.571344</td>\n",
       "      <td>0.671089</td>\n",
       "    </tr>\n",
       "    <tr>\n",
       "      <th>min</th>\n",
       "      <td>0.004658</td>\n",
       "      <td>0.001773</td>\n",
       "      <td>0.002460</td>\n",
       "      <td>0.003483</td>\n",
       "      <td>0.001276</td>\n",
       "      <td>0.071533</td>\n",
       "      <td>0.212682</td>\n",
       "    </tr>\n",
       "    <tr>\n",
       "      <th>25%</th>\n",
       "      <td>0.010836</td>\n",
       "      <td>0.005633</td>\n",
       "      <td>0.006640</td>\n",
       "      <td>0.009374</td>\n",
       "      <td>0.002548</td>\n",
       "      <td>0.151472</td>\n",
       "      <td>0.392159</td>\n",
       "    </tr>\n",
       "    <tr>\n",
       "      <th>50%</th>\n",
       "      <td>0.023432</td>\n",
       "      <td>0.012022</td>\n",
       "      <td>0.012720</td>\n",
       "      <td>0.017770</td>\n",
       "      <td>0.015792</td>\n",
       "      <td>0.202483</td>\n",
       "      <td>0.529017</td>\n",
       "    </tr>\n",
       "    <tr>\n",
       "      <th>75%</th>\n",
       "      <td>0.083269</td>\n",
       "      <td>0.067328</td>\n",
       "      <td>0.061746</td>\n",
       "      <td>0.081728</td>\n",
       "      <td>0.064746</td>\n",
       "      <td>0.279761</td>\n",
       "      <td>0.717590</td>\n",
       "    </tr>\n",
       "    <tr>\n",
       "      <th>max</th>\n",
       "      <td>0.205924</td>\n",
       "      <td>1.359753</td>\n",
       "      <td>0.468714</td>\n",
       "      <td>0.201652</td>\n",
       "      <td>0.197267</td>\n",
       "      <td>2.443244</td>\n",
       "      <td>3.040749</td>\n",
       "    </tr>\n",
       "  </tbody>\n",
       "</table>\n",
       "</div>"
      ],
      "text/plain": [
       "            mod_1       mod_2       mod_3       mod_4       mod_5       mod_6  \\\n",
       "count  100.000000  100.000000  100.000000  100.000000  100.000000  100.000000   \n",
       "mean     0.050507    0.049218    0.038833    0.049296    0.037095    0.396600   \n",
       "std      0.051657    0.139711    0.059113    0.051363    0.044957    0.571344   \n",
       "min      0.004658    0.001773    0.002460    0.003483    0.001276    0.071533   \n",
       "25%      0.010836    0.005633    0.006640    0.009374    0.002548    0.151472   \n",
       "50%      0.023432    0.012022    0.012720    0.017770    0.015792    0.202483   \n",
       "75%      0.083269    0.067328    0.061746    0.081728    0.064746    0.279761   \n",
       "max      0.205924    1.359753    0.468714    0.201652    0.197267    2.443244   \n",
       "\n",
       "            mod_7  \n",
       "count  100.000000  \n",
       "mean     0.767469  \n",
       "std      0.671089  \n",
       "min      0.212682  \n",
       "25%      0.392159  \n",
       "50%      0.529017  \n",
       "75%      0.717590  \n",
       "max      3.040749  "
      ]
     },
     "execution_count": 77,
     "metadata": {},
     "output_type": "execute_result"
    }
   ],
   "source": [
    "# Show the descriptive statistics of testing error for each model\n",
    "cv_df.describe()"
   ]
  },
  {
   "cell_type": "code",
   "execution_count": null,
   "id": "dcff1a97",
   "metadata": {},
   "outputs": [],
   "source": []
  }
 ],
 "metadata": {
  "kernelspec": {
   "display_name": "Python 3 (ipykernel)",
   "language": "python",
   "name": "python3"
  },
  "language_info": {
   "codemirror_mode": {
    "name": "ipython",
    "version": 3
   },
   "file_extension": ".py",
   "mimetype": "text/x-python",
   "name": "python",
   "nbconvert_exporter": "python",
   "pygments_lexer": "ipython3",
   "version": "3.8.8"
  }
 },
 "nbformat": 4,
 "nbformat_minor": 5
}
