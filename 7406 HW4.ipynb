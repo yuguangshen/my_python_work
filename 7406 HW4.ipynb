{
 "cells": [
  {
   "cell_type": "code",
   "execution_count": 1,
   "id": "b9158969",
   "metadata": {},
   "outputs": [],
   "source": [
    "import numpy as np\n",
    "import pandas as pd\n",
    "import statsmodels.api as sm\n",
    "import matplotlib.pyplot as plt\n",
    "import math\n",
    "import os\n",
    "from sklego.linear_model import LowessRegression\n",
    "from statsmodels.nonparametric.api import KernelReg\n",
    "from scipy.interpolate import UnivariateSpline"
   ]
  },
  {
   "cell_type": "code",
   "execution_count": 2,
   "id": "6c6f14cb",
   "metadata": {},
   "outputs": [],
   "source": [
    "# Write a function for f(xi)\n",
    "def mexican_hat(xi):\n",
    "    return (1 - pow(xi, 2)) * math.exp(-0.5 * pow(xi, 2))"
   ]
  },
  {
   "cell_type": "code",
   "execution_count": 3,
   "id": "ab258f3b",
   "metadata": {},
   "outputs": [],
   "source": [
    "# Write a function to generate an error term based on N(0, 0.2^2) distribution\n",
    "def error():\n",
    "    return np.random.normal(0, 0.2)"
   ]
  },
  {
   "cell_type": "code",
   "execution_count": 4,
   "id": "d67c2458",
   "metadata": {},
   "outputs": [],
   "source": [
    "# Create equi-distant x values\n",
    "x_1 = [-2 * math.pi + (4 * math.pi * i) / 100 for i in range(101)]"
   ]
  },
  {
   "cell_type": "code",
   "execution_count": 5,
   "id": "b759f5a4",
   "metadata": {},
   "outputs": [],
   "source": [
    "# Load non-equidistant x values\n",
    "s = os.path.sep\n",
    "x_2 = pd.read_csv(\"D:\" + s + \"2022 Spring\" + s + \"ISYE7406\" + s + \"HW\" + s + \"HW4\" + s + \"HW04part2.x.csv\")['x']"
   ]
  },
  {
   "cell_type": "code",
   "execution_count": 6,
   "id": "d018ea93",
   "metadata": {},
   "outputs": [],
   "source": [
    "# Write a function to run Monte Carlo LOESS\n"
   ]
  },
  {
   "cell_type": "markdown",
   "id": "24700d22",
   "metadata": {},
   "source": [
    "# Equi-distant points"
   ]
  },
  {
   "cell_type": "markdown",
   "id": "e93bd592",
   "metadata": {},
   "source": [
    "## LOWESS"
   ]
  },
  {
   "cell_type": "code",
   "execution_count": 7,
   "id": "8eee6ff6",
   "metadata": {},
   "outputs": [],
   "source": [
    "Y = [mexican_hat(x) + error() for x in x_1]"
   ]
  },
  {
   "cell_type": "code",
   "execution_count": 8,
   "id": "282e5d90",
   "metadata": {},
   "outputs": [],
   "source": [
    "loess = LowessRegression(span = 0.75)"
   ]
  },
  {
   "cell_type": "code",
   "execution_count": 9,
   "id": "d392b918",
   "metadata": {},
   "outputs": [
    {
     "data": {
      "text/plain": [
       "LowessRegression(span=0.75)"
      ]
     },
     "execution_count": 9,
     "metadata": {},
     "output_type": "execute_result"
    }
   ],
   "source": [
    "loess.fit(np.array(x_1).reshape(-1,1), Y)"
   ]
  },
  {
   "cell_type": "code",
   "execution_count": 10,
   "id": "2f169e02",
   "metadata": {
    "scrolled": true
   },
   "outputs": [
    {
     "data": {
      "text/plain": [
       "Text(0.5, 1.0, 'LOWESS')"
      ]
     },
     "execution_count": 10,
     "metadata": {},
     "output_type": "execute_result"
    },
    {
     "data": {
      "image/png": "[encoded data removed]",
      "text/plain": [
       "<Figure size 432x288 with 1 Axes>"
      ]
     },
     "metadata": {
      "needs_background": "light"
     },
     "output_type": "display_data"
    }
   ],
   "source": [
    "plt.scatter(x_1, Y)\n",
    "plt.plot(x_1, loess.predict(np.array(x_1).reshape(-1,1)), color = 'orange')\n",
    "plt.title('LOWESS')"
   ]
  },
  {
   "cell_type": "markdown",
   "id": "73547d6c",
   "metadata": {},
   "source": [
    "## NW"
   ]
  },
  {
   "cell_type": "code",
   "execution_count": 11,
   "id": "1b7ba1a3",
   "metadata": {},
   "outputs": [],
   "source": [
    "# reg_type = 'lc' indicates NW kernel\n",
    "NW = KernelReg(endog = Y, exog = x_1, var_type = 'c', reg_type = 'lc', bw = [0.2], ckertype = 'gaussian')"
   ]
  },
  {
   "cell_type": "code",
   "execution_count": 12,
   "id": "c4129d94",
   "metadata": {},
   "outputs": [],
   "source": [
    "mean, fmx = NW.fit()"
   ]
  },
  {
   "cell_type": "code",
   "execution_count": 13,
   "id": "5ca64155",
   "metadata": {},
   "outputs": [
    {
     "data": {
      "text/plain": [
       "Text(0.5, 1.0, 'NW Kernel')"
      ]
     },
     "execution_count": 13,
     "metadata": {},
     "output_type": "execute_result"
    },
    {
     "data": {
      "image/png": "[encoded data removed]",
      "text/plain": [
       "<Figure size 432x288 with 1 Axes>"
      ]
     },
     "metadata": {
      "needs_background": "light"
     },
     "output_type": "display_data"
    }
   ],
   "source": [
    "plt.scatter(x_1, Y)\n",
    "plt.plot(x_1, mean, color = 'orange')\n",
    "plt.title('NW Kernel')"
   ]
  },
  {
   "cell_type": "markdown",
   "id": "36fbac06",
   "metadata": {},
   "source": [
    "## Spline"
   ]
  },
  {
   "cell_type": "code",
   "execution_count": 14,
   "id": "5e39fe13",
   "metadata": {},
   "outputs": [],
   "source": [
    "# Default is k = 3, cubic spline\n",
    "spl = UnivariateSpline(x = x_1, y = Y)"
   ]
  },
  {
   "cell_type": "code",
   "execution_count": 15,
   "id": "9fb33d89",
   "metadata": {},
   "outputs": [
    {
     "data": {
      "text/plain": [
       "Text(0.5, 1.0, 'Spline')"
      ]
     },
     "execution_count": 15,
     "metadata": {},
     "output_type": "execute_result"
    },
    {
     "data": {
      "image/png": "[encoded data removed]",
      "text/plain": [
       "<Figure size 432x288 with 1 Axes>"
      ]
     },
     "metadata": {
      "needs_background": "light"
     },
     "output_type": "display_data"
    }
   ],
   "source": [
    "plt.scatter(x_1, Y)\n",
    "plt.plot(x_1, spl(x_1), color = 'orange')\n",
    "plt.title('Spline')"
   ]
  },
  {
   "cell_type": "code",
   "execution_count": null,
   "id": "aa8e2b13",
   "metadata": {},
   "outputs": [],
   "source": []
  }
 ],
 "metadata": {
  "kernelspec": {
   "display_name": "Python 3 (ipykernel)",
   "language": "python",
   "name": "python3"
  },
  "language_info": {
   "codemirror_mode": {
    "name": "ipython",
    "version": 3
   },
   "file_extension": ".py",
   "mimetype": "text/x-python",
   "name": "python",
   "nbconvert_exporter": "python",
   "pygments_lexer": "ipython3",
   "version": "3.8.8"
  }
 },
 "nbformat": 4,
 "nbformat_minor": 5
}
